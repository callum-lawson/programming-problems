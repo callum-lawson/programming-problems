{
 "cells": [
  {
   "cell_type": "code",
   "execution_count": 7,
   "metadata": {},
   "outputs": [],
   "source": [
    "import numpy as np\n",
    "import pandas as pd\n",
    "import matplotlib.pyplot as plt\n",
    "from sklearn.datasets import fetch_california_housing\n",
    "from sklearn.linear_model import Ridge, Lasso\n",
    "from sklearn.model_selection import train_test_split, KFold\n",
    "from sklearn.metrics import mean_squared_error, r2_score\n",
    "from sklearn.preprocessing import StandardScaler"
   ]
  },
  {
   "cell_type": "code",
   "execution_count": 8,
   "metadata": {},
   "outputs": [
    {
     "name": "stdout",
     "output_type": "stream",
     "text": [
      ".. _california_housing_dataset:\n",
      "\n",
      "California Housing dataset\n",
      "--------------------------\n",
      "\n",
      "**Data Set Characteristics:**\n",
      "\n",
      ":Number of Instances: 20640\n",
      "\n",
      ":Number of Attributes: 8 numeric, predictive attributes and the target\n",
      "\n",
      ":Attribute Information:\n",
      "    - MedInc        median income in block group\n",
      "    - HouseAge      median house age in block group\n",
      "    - AveRooms      average number of rooms per household\n",
      "    - AveBedrms     average number of bedrooms per household\n",
      "    - Population    block group population\n",
      "    - AveOccup      average number of household members\n",
      "    - Latitude      block group latitude\n",
      "    - Longitude     block group longitude\n",
      "\n",
      ":Missing Attribute Values: None\n",
      "\n",
      "This dataset was obtained from the StatLib repository.\n",
      "https://www.dcc.fc.up.pt/~ltorgo/Regression/cal_housing.html\n",
      "\n",
      "The target variable is the median house value for California districts,\n",
      "expressed in hundreds of thousands of dollars ($100,000).\n",
      "\n",
      "This dataset was derived from the 1990 U.S. census, using one row per census\n",
      "block group. A block group is the smallest geographical unit for which the U.S.\n",
      "Census Bureau publishes sample data (a block group typically has a population\n",
      "of 600 to 3,000 people).\n",
      "\n",
      "A household is a group of people residing within a home. Since the average\n",
      "number of rooms and bedrooms in this dataset are provided per household, these\n",
      "columns may take surprisingly large values for block groups with few households\n",
      "and many empty houses, such as vacation resorts.\n",
      "\n",
      "It can be downloaded/loaded using the\n",
      ":func:`sklearn.datasets.fetch_california_housing` function.\n",
      "\n",
      ".. topic:: References\n",
      "\n",
      "    - Pace, R. Kelley and Ronald Barry, Sparse Spatial Autoregressions,\n",
      "      Statistics and Probability Letters, 33 (1997) 291-297\n",
      "\n"
     ]
    }
   ],
   "source": [
    "california_housing = fetch_california_housing()\n",
    "print(california_housing.DESCR)"
   ]
  },
  {
   "cell_type": "code",
   "execution_count": 9,
   "metadata": {},
   "outputs": [
    {
     "name": "stdout",
     "output_type": "stream",
     "text": [
      ".. _california_housing_dataset:\n",
      "\n",
      "California Housing dataset\n",
      "--------------------------\n",
      "\n",
      "**Data Set Characteristics:**\n",
      "\n",
      ":Number of Instances: 20640\n",
      "\n",
      ":Number of Attributes: 8 numeric, predictive attributes and the target\n",
      "\n",
      ":Attribute Information:\n",
      "    - MedInc        median income in block group\n",
      "    - HouseAge      median house age in block group\n",
      "    - AveRooms      average number of rooms per household\n",
      "    - AveBedrms     average number of bedrooms per household\n",
      "    - Population    block group population\n",
      "    - AveOccup      average number of household members\n",
      "    - Latitude      block group latitude\n",
      "    - Longitude     block group longitude\n",
      "\n",
      ":Missing Attribute Values: None\n",
      "\n",
      "This dataset was obtained from the StatLib repository.\n",
      "https://www.dcc.fc.up.pt/~ltorgo/Regression/cal_housing.html\n",
      "\n",
      "The target variable is the median house value for California districts,\n",
      "expressed in hundreds of thousands of dollars ($100,000).\n",
      "\n",
      "This dataset was derived from the 1990 U.S. census, using one row per census\n",
      "block group. A block group is the smallest geographical unit for which the U.S.\n",
      "Census Bureau publishes sample data (a block group typically has a population\n",
      "of 600 to 3,000 people).\n",
      "\n",
      "A household is a group of people residing within a home. Since the average\n",
      "number of rooms and bedrooms in this dataset are provided per household, these\n",
      "columns may take surprisingly large values for block groups with few households\n",
      "and many empty houses, such as vacation resorts.\n",
      "\n",
      "It can be downloaded/loaded using the\n",
      ":func:`sklearn.datasets.fetch_california_housing` function.\n",
      "\n",
      ".. topic:: References\n",
      "\n",
      "    - Pace, R. Kelley and Ronald Barry, Sparse Spatial Autoregressions,\n",
      "      Statistics and Probability Letters, 33 (1997) 291-297\n",
      "\n",
      "   MedInc  HouseAge  AveRooms  AveBedrms  Population  AveOccup  Latitude  \\\n",
      "0  8.3252      41.0  6.984127   1.023810       322.0  2.555556     37.88   \n",
      "1  8.3014      21.0  6.238137   0.971880      2401.0  2.109842     37.86   \n",
      "2  7.2574      52.0  8.288136   1.073446       496.0  2.802260     37.85   \n",
      "3  5.6431      52.0  5.817352   1.073059       558.0  2.547945     37.85   \n",
      "4  3.8462      52.0  6.281853   1.081081       565.0  2.181467     37.85   \n",
      "\n",
      "   Longitude  MedianHouseValue  \n",
      "0    -122.23             4.526  \n",
      "1    -122.22             3.585  \n",
      "2    -122.24             3.521  \n",
      "3    -122.25             3.413  \n",
      "4    -122.25             3.422  \n"
     ]
    }
   ],
   "source": [
    "# Display the description of the dataset\n",
    "print(california_housing.DESCR)\n",
    "\n",
    "# Access the feature matrix (X) and the target vector (y)\n",
    "X = california_housing.data\n",
    "y = california_housing.target\n",
    "\n",
    "# Example: Print the first 5 rows of the dataset\n",
    "import pandas as pd\n",
    "df = pd.DataFrame(X, columns=california_housing.feature_names)\n",
    "df['MedianHouseValue'] = y  # appending the target column to the dataframe\n",
    "print(df.head())\n"
   ]
  },
  {
   "cell_type": "markdown",
   "metadata": {},
   "source": [
    "## Scaling and train-test split"
   ]
  },
  {
   "cell_type": "code",
   "execution_count": 10,
   "metadata": {},
   "outputs": [],
   "source": [
    "from sklearn.preprocessing import StandardScaler\n",
    "from sklearn.model_selection import train_test_split\n",
    "\n",
    "# Example data loading (assuming you have the data in variables X and y)\n",
    "X_train, X_test, y_train, y_test = train_test_split(X, y, test_size=0.2, random_state=1)\n",
    "\n",
    "# Step 1: Initialize the StandardScaler\n",
    "scaler = StandardScaler()\n",
    "\n",
    "# Step 2: Fit the scaler on the training data\n",
    "scaler.fit(X_train)\n",
    "\n",
    "# Step 3: Transform the training data\n",
    "X_train_scaled = scaler.transform(X_train)\n",
    "\n",
    "# Step 4: Transform the testing data\n",
    "X_test_scaled = scaler.transform(X_test)"
   ]
  },
  {
   "cell_type": "markdown",
   "metadata": {},
   "source": [
    "## Regularisation"
   ]
  },
  {
   "cell_type": "code",
   "execution_count": 36,
   "metadata": {},
   "outputs": [
    {
     "data": {
      "image/png": "[encoded data removed]",
      "text/plain": [
       "<Figure size 1000x600 with 1 Axes>"
      ]
     },
     "metadata": {},
     "output_type": "display_data"
    }
   ],
   "source": [
    "# Range of alpha values to explore\n",
    "alphas = np.logspace(-4, 4, 20)\n",
    "\n",
    "# Prepare to collect metrics\n",
    "ridge_mses = []\n",
    "lasso_mses = []\n",
    "\n",
    "# Train and evaluate models\n",
    "for alpha in alphas:\n",
    "    # Ridge regression\n",
    "    ridge_reg = Ridge(alpha=alpha)\n",
    "    ridge_reg.fit(X_train_scaled, y_train)\n",
    "    y_pred_ridge = ridge_reg.predict(X_test_scaled)\n",
    "    ridge_mses.append(mean_squared_error(y_test, y_pred_ridge))\n",
    "    \n",
    "    # Lasso regression\n",
    "    lasso_reg = Lasso(alpha=alpha)\n",
    "    lasso_reg.fit(X_train_scaled, y_train)\n",
    "    y_pred_lasso = lasso_reg.predict(X_test_scaled)\n",
    "    lasso_mses.append(mean_squared_error(y_test, y_pred_lasso))\n",
    "\n",
    "# Plotting the results\n",
    "plt.figure(figsize=(10, 6))\n",
    "plt.plot(alphas, ridge_mses, label='Ridge MSE', marker='o')\n",
    "plt.plot(alphas, lasso_mses, label='Lasso MSE', marker='s')\n",
    "plt.xlabel('Alpha (regularization strength)')\n",
    "plt.ylabel('Mean Squared Error')\n",
    "plt.xscale('log')\n",
    "plt.title('MSE vs. Regularization Strength for Ridge and Lasso Regression')\n",
    "plt.legend()\n",
    "plt.grid(True)\n",
    "plt.show()\n"
   ]
  },
  {
   "cell_type": "markdown",
   "metadata": {},
   "source": [
    "## K-fold cross-validation"
   ]
  },
  {
   "cell_type": "code",
   "execution_count": 43,
   "metadata": {},
   "outputs": [
    {
     "name": "stdout",
     "output_type": "stream",
     "text": [
      "TRAIN: [    0     1     2 ... 20637 20638 20639] TEST: [    4     6     7 ... 20621 20624 20629]\n",
      "TRAIN: [    1     2     3 ... 20637 20638 20639] TEST: [    0     5     8 ... 20632 20634 20636]\n",
      "TRAIN: [    0     1     2 ... 20634 20636 20638] TEST: [   16    24    34 ... 20635 20637 20639]\n",
      "TRAIN: [    0     4     5 ... 20637 20638 20639] TEST: [    1     2     3 ... 20627 20628 20631]\n",
      "TRAIN: [    0     1     2 ... 20636 20637 20639] TEST: [   14    15    18 ... 20622 20625 20638]\n"
     ]
    }
   ],
   "source": [
    "# Setup k-fold cross-validation\n",
    "kf = KFold(n_splits=5, shuffle=True, random_state=1)\n",
    "\n",
    "for train_index, test_index in kf.split(X):\n",
    "    print(\"TRAIN:\", train_index, \"TEST:\", test_index)\n",
    "    X_train, X_test = X[train_index], X[test_index]\n",
    "    y_train, y_test = y[train_index], y[test_index]"
   ]
  },
  {
   "cell_type": "code",
   "execution_count": 13,
   "metadata": {},
   "outputs": [
    {
     "name": "stdout",
     "output_type": "stream",
     "text": [
      "                            OLS Regression Results                            \n",
      "==============================================================================\n",
      "Dep. Variable:                      y   R-squared:                       0.608\n",
      "Model:                            OLS   Adj. R-squared:                  0.608\n",
      "Method:                 Least Squares   F-statistic:                     3205.\n",
      "Date:                Wed, 08 May 2024   Prob (F-statistic):               0.00\n",
      "Time:                        22:40:02   Log-Likelihood:                -18082.\n",
      "No. Observations:               16512   AIC:                         3.618e+04\n",
      "Df Residuals:                   16503   BIC:                         3.625e+04\n",
      "Df Model:                           8                                         \n",
      "Covariance Type:            nonrobust                                         \n",
      "==============================================================================\n",
      "                 coef    std err          t      P>|t|      [0.025      0.975]\n",
      "------------------------------------------------------------------------------\n",
      "const          2.0774      0.006    368.919      0.000       2.066       2.088\n",
      "x1             0.8296      0.009     93.863      0.000       0.812       0.847\n",
      "x2             0.1219      0.006     19.406      0.000       0.110       0.134\n",
      "x3            -0.2737      0.017    -16.296      0.000      -0.307      -0.241\n",
      "x4             0.3206      0.015     20.717      0.000       0.290       0.351\n",
      "x5            -0.0041      0.006     -0.687      0.492      -0.016       0.008\n",
      "x6            -0.0400      0.006     -7.065      0.000      -0.051      -0.029\n",
      "x7            -0.9103      0.017    -52.763      0.000      -0.944      -0.876\n",
      "x8            -0.8845      0.017    -52.197      0.000      -0.918      -0.851\n",
      "==============================================================================\n",
      "Omnibus:                     3548.863   Durbin-Watson:                   1.981\n",
      "Prob(Omnibus):                  0.000   Jarque-Bera (JB):            10666.407\n",
      "Skew:                           1.114   Prob(JB):                         0.00\n",
      "Kurtosis:                       6.247   Cond. No.                         6.78\n",
      "==============================================================================\n",
      "\n",
      "Notes:\n",
      "[1] Standard Errors assume that the covariance matrix of the errors is correctly specified.\n"
     ]
    }
   ],
   "source": [
    "import statsmodels.api as sm\n",
    "\n",
    "# Add a constant to the model (intercept)\n",
    "X_train_scaled_cons = sm.add_constant(X_train_scaled)\n",
    "\n",
    "# Fit the OLS model using statsmodels\n",
    "model = sm.OLS(y_train, X_train_scaled_cons)\n",
    "results = model.fit()\n",
    "print(results.summary())\n"
   ]
  }
 ],
 "metadata": {
  "kernelspec": {
   "display_name": "programming-problems",
   "language": "python",
   "name": "python3"
  },
  "language_info": {
   "codemirror_mode": {
    "name": "ipython",
    "version": 3
   },
   "file_extension": ".py",
   "mimetype": "text/x-python",
   "name": "python",
   "nbconvert_exporter": "python",
   "pygments_lexer": "ipython3",
   "version": "3.12.1"
  }
 },
 "nbformat": 4,
 "nbformat_minor": 2
}
