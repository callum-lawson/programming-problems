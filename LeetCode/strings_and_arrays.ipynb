{
 "cells": [
  {
   "cell_type": "code",
   "execution_count": null,
   "id": "d2918906",
   "metadata": {},
   "outputs": [],
   "source": [
    "# Import libraries\n",
    "import numpy as np \n",
    "from typing import Optional\n",
    "import copy\n",
    "from collections import defaultdict\n",
    "from collections import deque"
   ]
  },
  {
   "cell_type": "markdown",
   "id": "74d59e8a",
   "metadata": {},
   "source": [
    "## Strings and Arrays"
   ]
  },
  {
   "cell_type": "markdown",
   "id": "eaf63a0c",
   "metadata": {},
   "source": [
    "### Two pointers"
   ]
  },
  {
   "cell_type": "code",
   "execution_count": null,
   "id": "20860a32",
   "metadata": {},
   "outputs": [
    {
     "name": "stdout",
     "output_type": "stream",
     "text": [
      "False\n",
      "True\n"
     ]
    }
   ],
   "source": [
    "# Example 1: Given a string s, return true if it is a palindrome, false otherwise.\n",
    "\n",
    "class PalindromeSolution:\n",
    "    def is_palindrome(self, s):\n",
    "        for i in range(0,len(s)):\n",
    "            if s[i] != s[-(i+1)]:\n",
    "                return False\n",
    "        return True\n",
    "\n",
    "palindrome_example_1 = 'trial'\n",
    "palindrome_example_2 = 'noon'\n",
    "\n",
    "palindrome_solution = PalindromeSolution()\n",
    "print(palindrome_solution.is_palindrome(palindrome_example_1))\n",
    "print(palindrome_solution.is_palindrome(palindrome_example_2))"
   ]
  },
  {
   "cell_type": "code",
   "execution_count": null,
   "id": "f84a55da",
   "metadata": {},
   "outputs": [
    {
     "name": "stdout",
     "output_type": "stream",
     "text": [
      "True\n"
     ]
    }
   ],
   "source": [
    "# Example 2: Given a sorted array of unique integers and a target integer, \n",
    "# return true if there exists a pair of numbers that sum to target, false otherwise. \n",
    "\n",
    "# For example, given nums = [1, 2, 4, 6, 8, 9, 14, 15] and target = 13, return true because 4 + 9 = 13.\n",
    "\n",
    "class PairSumSolution:\n",
    "    def contains_pair_matching_target_sum(self, sorted_array, target_sum):\n",
    "        index_end = len(sorted_array) - 1\n",
    "        i = 0\n",
    "        j = index_end\n",
    "        while i <= index_end and j >= 0: # using (left < right) instead avoids duplicate work\n",
    "            current_sum = sorted_array[i] + sorted_array[j]\n",
    "            if current_sum == target_sum:\n",
    "                return True\n",
    "            if current_sum < target_sum:\n",
    "                i += 1\n",
    "            if current_sum > target_sum:\n",
    "                j -= 1\n",
    "        \n",
    "        return False\n",
    "            \n",
    "            \n",
    "array_example = [1, 2, 4, 6, 8, 9, 14, 15]\n",
    "target_example = 13\n",
    "\n",
    "pair_sum_solution = PairSumSolution()\n",
    "print(pair_sum_solution.contains_pair_matching_target_sum(array_example, target_example))\n"
   ]
  },
  {
   "cell_type": "markdown",
   "id": "35f9a7e8",
   "metadata": {},
   "source": [
    "### Sorting"
   ]
  },
  {
   "cell_type": "code",
   "execution_count": null,
   "id": "01816fbd",
   "metadata": {},
   "outputs": [
    {
     "name": "stdout",
     "output_type": "stream",
     "text": [
      "[1, 1, 2, 3, 4, 5, 7, 8, 11]\n"
     ]
    }
   ],
   "source": [
    "# Example 3: Given two sorted integer arrays arr1 and arr2, \n",
    "# return a new array that combines both of them and is also sorted.\n",
    "\n",
    "class MergeSortedSolution:\n",
    "    def merge_sorted_arrays(self, arr1, arr2):\n",
    "        i = 0\n",
    "        j = 0\n",
    "        merged = []\n",
    "\n",
    "        while i < len(arr1) and j < len(arr2):\n",
    "            if arr1[i] <= arr2[j]:\n",
    "                merged.append(arr1[i])\n",
    "                i += 1\n",
    "            else:\n",
    "                merged.append(arr2[j])\n",
    "                j += 1\n",
    "        \n",
    "        while i < len(arr1):\n",
    "            merged.append(arr1[i])\n",
    "            i += 1\n",
    "\n",
    "        while j < len(arr2):\n",
    "            merged.append(arr2[j])\n",
    "            j += 1\n",
    "\n",
    "        return merged\n",
    "\n",
    "\n",
    "example_array_1 = [1, 2, 5, 8]\n",
    "example_array_2 = [1, 3, 4, 7, 11]\n",
    "\n",
    "example_solution_array = [1, 1, 2, 3, 4, 5, 7, 8, 11]\n",
    "function_solution = MergeSortedSolution()\n",
    "print(function_solution.merge_sorted_arrays(arr1=example_array_1, arr2=example_array_2))"
   ]
  },
  {
   "cell_type": "code",
   "execution_count": null,
   "id": "ee29f37d",
   "metadata": {},
   "outputs": [
    {
     "name": "stdout",
     "output_type": "stream",
     "text": [
      "True\n",
      "False\n"
     ]
    }
   ],
   "source": [
    "# Example 4: 392. Is Subsequence.\n",
    "\n",
    "# Given two strings s and t, return true if s is a subsequence of t, or false otherwise.\n",
    "\n",
    "# A subsequence of a string is a sequence of characters that can be obtained by deleting some (or none) of the characters \n",
    "# from the original string, while maintaining the relative order of the remaining characters. \n",
    "# For example, \"ace\" is a subsequence of \"abcde\" while \"aec\" is not.\n",
    "\n",
    "class SubSeqSolution:\n",
    "    def is_subsequence(self, s, t):\n",
    "        i = 0\n",
    "        j = 0\n",
    "        while i < len(s) and j < len(t):\n",
    "            if s[i] == t[j]:\n",
    "                i += 1\n",
    "            else:\n",
    "                j += 1\n",
    "\n",
    "        if i == len(s):\n",
    "            return True\n",
    "            # If we incremented all the way through the subsequence, \n",
    "            # we've found a match for all the characters\n",
    "        \n",
    "        return False\n",
    "\n",
    "example_sequence = \"abcde\"\n",
    "example_subsequence = \"ace\"\n",
    "example_nonsubsequence = \"aec\"\n",
    "\n",
    "subseq_solution = SubSeqSolution()\n",
    "print(subseq_solution.is_subsequence(s=example_subsequence, t=example_sequence))\n",
    "print(subseq_solution.is_subsequence(s=example_nonsubsequence, t=example_sequence))\n"
   ]
  },
  {
   "cell_type": "code",
   "execution_count": null,
   "id": "3c7ccf01",
   "metadata": {},
   "outputs": [
    {
     "name": "stdout",
     "output_type": "stream",
     "text": [
      "[0, 1, 9, 16, 100]\n"
     ]
    }
   ],
   "source": [
    "# Given an integer array nums sorted in non-decreasing order,\n",
    "# return an array of the squares of each number sorted in non-decreasing order.\n",
    "\n",
    "class SquaredSolution:\n",
    "    def sortedSquares(self, nums):\n",
    "        left = 0\n",
    "        right = len(nums) - 1\n",
    "        ans = []\n",
    "\n",
    "        while left <= right:\n",
    "            if abs(nums[left]) > abs(nums[right]):\n",
    "                ans.append(nums[left]**2)\n",
    "                left += 1\n",
    "            else:\n",
    "                ans.append(nums[right]**2)\n",
    "                right -= 1\n",
    "\n",
    "        ans.reverse()\n",
    "\n",
    "        return ans\n",
    "            \n",
    "\n",
    "squared_input = [-4,-1,0,3,10]\n",
    "squared_answer = [0,1,9,16,100]\n",
    "squared_solution = SquaredSolution()\n",
    "print(squared_solution.sortedSquares(nums=squared_input))"
   ]
  },
  {
   "cell_type": "markdown",
   "id": "32042a63",
   "metadata": {},
   "source": [
    "### Sliding windows"
   ]
  },
  {
   "cell_type": "code",
   "execution_count": null,
   "id": "e018c70a",
   "metadata": {},
   "outputs": [
    {
     "name": "stdout",
     "output_type": "stream",
     "text": [
      "[6 1 4 4 8 4 6 3 5 8]\n",
      "3\n"
     ]
    }
   ],
   "source": [
    "# Example 1: Given an array of positive integers nums and an integer k, \n",
    "# find the length of the longest subarray whose sum is less than or equal to k. \n",
    "\n",
    "class LongestArraySolution:\n",
    "    def longest_array_leq_k(self, nums, k):\n",
    "        left = 0\n",
    "        current_sum = 0\n",
    "        max_length = 0\n",
    "\n",
    "        for right in range(0, len(nums)):\n",
    "\n",
    "            current_sum = current_sum + nums[right]\n",
    "\n",
    "            while current_sum > k and left < right:\n",
    "                current_sum = current_sum - nums[left]\n",
    "                left += 1\n",
    "                \n",
    "            current_length = 1 + right - left   # when left=right, window length is 1\n",
    "\n",
    "            if current_length > max_length:\n",
    "                max_length = current_length\n",
    "        \n",
    "        return max_length\n",
    "    \n",
    "\n",
    "# generate an array over which to take the sums\n",
    "np.random.seed(0) \n",
    "random_integer_array = np.random.randint(1, 10, size=10) # Between 1 and 100 (inclusive)\n",
    "maximum_sum = 10\n",
    "longest_array_solution = LongestArraySolution()\n",
    "print(random_integer_array)\n",
    "print(longest_array_solution.longest_array_leq_k(nums=random_integer_array, k=maximum_sum))\n"
   ]
  },
  {
   "cell_type": "code",
   "execution_count": null,
   "id": "eaf0f2aa",
   "metadata": {},
   "outputs": [
    {
     "name": "stdout",
     "output_type": "stream",
     "text": [
      "5\n",
      "6\n"
     ]
    }
   ],
   "source": [
    "# Example 2: You are given a binary string s (a string containing only \"0\" and \"1\"). \n",
    "# You may choose up to one \"0\" and flip it to a \"1\". \n",
    "# What is the length of the longest substring achievable that contains only \"1\"?\n",
    "\n",
    "class BinaryStringSolution:\n",
    "    def find_longest_substring(self, s):\n",
    "        left = 0\n",
    "        zero_counter = 0\n",
    "        max_window_width = 0\n",
    "\n",
    "        for right in range(len(s)):\n",
    "\n",
    "            if s[right] == '0':\n",
    "                zero_counter += 1\n",
    "\n",
    "            while zero_counter > 1:\n",
    "                left += 1              \n",
    "                if s[left] == '0':\n",
    "                    zero_counter -= 1\n",
    "            \n",
    "            window_width = 1 + right - left\n",
    "            max_window_width = max(window_width, max_window_width)\n",
    "\n",
    "        return max_window_width\n",
    "\n",
    "example_string_input_1 = \"1101100111\"\n",
    "binary_string_solution = BinaryStringSolution()\n",
    "print(binary_string_solution.find_longest_substring(s=example_string_input_1)) # answer should be 5\n",
    "\n",
    "example_string_input_2 = \"110111\"\n",
    "print(binary_string_solution.find_longest_substring(s=example_string_input_2)) # answer should be 5\n"
   ]
  },
  {
   "cell_type": "code",
   "execution_count": null,
   "id": "a4e2dc26",
   "metadata": {},
   "outputs": [
    {
     "name": "stdout",
     "output_type": "stream",
     "text": [
      "8\n"
     ]
    }
   ],
   "source": [
    "# Example 3: 713. Subarray Product Less Than K.\n",
    "\n",
    "# Given an array of positive integers nums and an integer k, \n",
    "# return the number of subarrays where \n",
    "# the product of all the elements in the subarray is strictly less than k.\n",
    "\n",
    "class ConstrainedProductSolution:\n",
    "    def count_subarrays_product_less_than_k(self, nums, k):\n",
    "        left = 0\n",
    "        count = 0\n",
    "        product = 1\n",
    "\n",
    "        for right in range(len(nums)):\n",
    "            product *= nums[right]\n",
    "\n",
    "            while product >= k:\n",
    "                product /= nums[left]\n",
    "                left += 1\n",
    "\n",
    "            count += 1 + right - left\n",
    "\n",
    "        return count\n",
    "\n",
    "constrained_product_solution = ConstrainedProductSolution()\n",
    "    \n",
    "example_nums = [10, 5, 2, 6]\n",
    "example_k = 100\n",
    "print(constrained_product_solution.count_subarrays_product_less_than_k(nums=example_nums, k=example_k))\n",
    "# Answer = 8. The subarrays with products less than k are:\n",
    "# [10], [5], [2], [6], [10, 5], [5, 2], [2, 6], [5, 2, 6]"
   ]
  },
  {
   "cell_type": "code",
   "execution_count": null,
   "id": "9640fbad",
   "metadata": {},
   "outputs": [
    {
     "name": "stdout",
     "output_type": "stream",
     "text": [
      "[5, 6]\n"
     ]
    }
   ],
   "source": [
    "# Example 4: Given an integer array nums and an integer k, \n",
    "# find the sum of the subarray with the largest sum whose length is k.\n",
    "\n",
    "class SubarraySumSolution:\n",
    "    def find_subarray_with_largest_sum(self, nums, k):\n",
    "        \n",
    "        sum_max_so_far = 0\n",
    "        index_max_so_far = 0\n",
    "        sum_current = sum(nums[0:(k-1)]) # initial values\n",
    "\n",
    "        for i in range(0, len(nums)-k):\n",
    "\n",
    "            sum_current += nums[i+k] - nums[i]\n",
    "\n",
    "            if sum_current > sum_max_so_far:\n",
    "               sum_max_so_far = sum_current\n",
    "               i_max_so_far = i + 1\n",
    "\n",
    "        largest_subarray = nums[i_max_so_far:(i_max_so_far + k)]\n",
    "\n",
    "        return largest_subarray\n",
    "    \n",
    "\n",
    "example_nums = [1, 2, 3, 4, 5, 6]\n",
    "example_k = 2\n",
    "subarray_sum_solution = SubarraySumSolution()\n",
    "print(subarray_sum_solution.find_subarray_with_largest_sum(nums=example_nums, k=example_k))"
   ]
  },
  {
   "cell_type": "code",
   "execution_count": null,
   "id": "97b94542",
   "metadata": {},
   "outputs": [
    {
     "name": "stdout",
     "output_type": "stream",
     "text": [
      "2\n"
     ]
    }
   ],
   "source": [
    "# Example 2: 2270. Number of Ways to Split Array\n",
    "\n",
    "# Given an integer array nums, \n",
    "# find the number of ways to split the array into two parts so that \n",
    "# the first section has a sum greater than or equal to the sum of the second section. \n",
    "# The second section should have at least one number.\n",
    "\n",
    "class ArraySplitSolution:\n",
    "    def count_splits_first_sum_larger_than_second(self, nums):\n",
    "        array_count = 0\n",
    "        left_sums = []\n",
    "        right_sums = []\n",
    "        left_sums.append(nums[0])\n",
    "\n",
    "        for i in range(1, len(nums)): \n",
    "            # starts from -1 because must be at least one element in right array\n",
    "            left_sums.append(left_sums[i-1] + nums[i])\n",
    "\n",
    "        for i in range(0, len(nums) - 1):\n",
    "            right_sums.append(left_sums[-1] - left_sums[i])\n",
    "            if left_sums[i] > right_sums[i]:\n",
    "                array_count += 1\n",
    "\n",
    "        return array_count\n",
    "\n",
    "example_nums = [1, 6, 3, 2, 7, 2]\n",
    "\n",
    "array_split_solution = ArraySplitSolution()\n",
    "print(array_split_solution.count_splits_first_sum_larger_than_second(nums=example_nums))\n",
    "\n",
    "# NB: more efficient to start by calculating the total sum and incrementing the count within one loop\n"
   ]
  }
 ],
 "metadata": {
  "kernelspec": {
   "display_name": "fd-rl",
   "language": "python",
   "name": "python3"
  },
  "language_info": {
   "codemirror_mode": {
    "name": "ipython",
    "version": 3
   },
   "file_extension": ".py",
   "mimetype": "text/x-python",
   "name": "python",
   "nbconvert_exporter": "python",
   "pygments_lexer": "ipython3",
   "version": "3.12.1"
  }
 },
 "nbformat": 4,
 "nbformat_minor": 5
}
