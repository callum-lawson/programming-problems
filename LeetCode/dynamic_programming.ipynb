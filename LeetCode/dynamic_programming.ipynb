{
 "cells": [
  {
   "cell_type": "code",
   "execution_count": 31,
   "id": "9512ed0c",
   "metadata": {
    "metadata": {}
   },
   "outputs": [],
   "source": [
    "# Import libraries\n",
    "import numpy as np \n",
    "from typing import Optional\n",
    "import copy\n",
    "from collections import defaultdict\n",
    "from collections import deque"
   ]
  },
  {
   "cell_type": "markdown",
   "id": "54484bd5",
   "metadata": {},
   "source": [
    "# Dynamic Programming"
   ]
  },
  {
   "cell_type": "markdown",
   "id": "b616c225",
   "metadata": {},
   "source": [
    "## One-dimensional Problems"
   ]
  },
  {
   "cell_type": "code",
   "execution_count": 32,
   "id": "25c55043",
   "metadata": {
    "metadata": {}
   },
   "outputs": [
    {
     "data": {
      "text/plain": [
       "45"
      ]
     },
     "execution_count": 32,
     "metadata": {},
     "output_type": "execute_result"
    }
   ],
   "source": [
    "# You are given an integer array cost where cost[i] is the cost of the ith step on a staircase. \n",
    "# Once you pay the cost, you can either climb one or two steps. \n",
    "# You can either start from the step with index 0, or the step with index 1.\n",
    "# Return the minimum cost to reach the top of the floor (outside the array, not the last index of cost).\n",
    "\n",
    "def cumulative_cost(step, cost, memo):\n",
    "    if memo[step] is not None:\n",
    "        return memo[step]\n",
    "    else:\n",
    "        if step in [0, 1]:\n",
    "            return 0\n",
    "        else:\n",
    "            step_minus_1 = step - 1\n",
    "            step_minus_2 = step - 2\n",
    "            cost_step_minus_1 = cost[step_minus_1] + cumulative_cost(step_minus_1, cost, memo)\n",
    "            cost_step_minus_2 = cost[step_minus_2] + cumulative_cost(step_minus_2, cost, memo)\n",
    "            memo[step] = min(cost_step_minus_1, cost_step_minus_2)\n",
    "            return memo[step]\n",
    "\n",
    "cost = [10, 15, 20, 5, 30, 25, 10]\n",
    "total_steps = len(cost)\n",
    "memo = [None] * (total_steps + 1) # + 1 for top step (no cost)\n",
    "cumulative_cost(total_steps, cost, memo)"
   ]
  },
  {
   "cell_type": "code",
   "execution_count": 33,
   "id": "70909aa4",
   "metadata": {
    "metadata": {}
   },
   "outputs": [],
   "source": [
    "# Step-climbing: top-down and bottom-up solutions\n",
    "\n",
    "def minimum_cost_climbing_stairs(costs):\n",
    "    def compute_minimum_cost(step_index):\n",
    "        if step_index <= 1:\n",
    "            return 0\n",
    "        if step_index in memoization:\n",
    "            return memoization[step_index]\n",
    "        memoization[step_index] = min(compute_minimum_cost(step_index - 1) + costs[step_index - 1], \n",
    "                                      compute_minimum_cost(step_index - 2) + costs[step_index - 2])\n",
    "        return memoization[step_index]\n",
    "    \n",
    "    memoization = {}\n",
    "    return compute_minimum_cost(len(costs))\n",
    "\n",
    "\n",
    "def minimum_cost_climbing_stairs_iterative(costs):\n",
    "    number_of_steps = len(costs)\n",
    "    dp_costs = [0] * (number_of_steps + 1)\n",
    "    for step_index in range(2, number_of_steps + 1):\n",
    "        dp_costs[step_index] = min(dp_costs[step_index - 1] + costs[step_index - 1], \n",
    "                                   dp_costs[step_index - 2] + costs[step_index - 2])\n",
    "    return dp_costs[number_of_steps]\n"
   ]
  },
  {
   "cell_type": "code",
   "execution_count": 34,
   "id": "f2369e40",
   "metadata": {
    "metadata": {}
   },
   "outputs": [
    {
     "data": {
      "text/plain": [
       "670"
      ]
     },
     "execution_count": 34,
     "metadata": {},
     "output_type": "execute_result"
    }
   ],
   "source": [
    "# Example 1: 198. House Robber\n",
    "\n",
    "# You are planning to rob houses along a street. \n",
    "# The ith house has nums[i] money. \n",
    "# If you rob two houses beside each other, the alarm system will trigger and alert the police. \n",
    "# What is the most money you can rob without alerting the police?\n",
    "\n",
    "house_money = [120, 50, 300, 200, 100, 250]\n",
    "len_houses = len(house_money)\n",
    "value_optimal_action = [None] * len_houses\n",
    "\n",
    "def calculate_house_value(i, house_money, value_optimal_action):\n",
    "    imax = len(house_money) - 1\n",
    "\n",
    "    if i > imax:\n",
    "        return 0\n",
    "    \n",
    "    if i == imax:\n",
    "        return house_money[i]\n",
    "    \n",
    "    if value_optimal_action[i] is not None:\n",
    "        return value_optimal_action[i]\n",
    "    \n",
    "    else:\n",
    "        value_rob_here = house_money[i] + calculate_house_value(i + 2, house_money, value_optimal_action)\n",
    "        value_rob_next = calculate_house_value(i + 1, house_money, value_optimal_action)\n",
    "        value_optimal_action[i] = max(value_rob_here, value_rob_next)\n",
    "        return value_optimal_action[i]\n",
    "    \n",
    "calculate_house_value(0, house_money, value_optimal_action)\n"
   ]
  },
  {
   "cell_type": "code",
   "execution_count": 35,
   "id": "c2418f5a",
   "metadata": {
    "metadata": {}
   },
   "outputs": [
    {
     "name": "stdout",
     "output_type": "stream",
     "text": [
      "670\n"
     ]
    }
   ],
   "source": [
    "from functools import cache\n",
    "\n",
    "def wrapper(house_money):\n",
    "    @cache\n",
    "    def calculate_house_value_cache(i):\n",
    "        imax = len(house_money) - 1\n",
    "\n",
    "        if i > imax:\n",
    "            return 0\n",
    "        \n",
    "        if i == imax:\n",
    "            return house_money[i]\n",
    "        \n",
    "        else:\n",
    "            value_rob_here = house_money[i] + calculate_house_value_cache(i + 2)\n",
    "            value_rob_next = calculate_house_value_cache(i + 1)\n",
    "            value_optimal_action = max(value_rob_here, value_rob_next)\n",
    "            return value_optimal_action\n",
    "        \n",
    "    return calculate_house_value_cache(0)\n",
    "\n",
    "print(wrapper(house_money))"
   ]
  },
  {
   "cell_type": "code",
   "execution_count": 16,
   "id": "b22f9db6",
   "metadata": {
    "metadata": {}
   },
   "outputs": [
    {
     "name": "stdout",
     "output_type": "stream",
     "text": [
      "4\n"
     ]
    }
   ],
   "source": [
    "# Example 2: 300. Longest Increasing Subsequence\n",
    "\n",
    "# Given an integer array nums, \n",
    "# return the length of the longest strictly increasing subsequence.\n",
    "\n",
    "from functools import cache\n",
    "\n",
    "nums = [10, 9, 2, 5, 3, 7, 101, 18]\n",
    "def find_max_length(nums):\n",
    "\n",
    "    @cache\n",
    "    def calculate_length_reward(i):\n",
    "        if i == (len(nums) - 1):\n",
    "            return 1\n",
    "        else:\n",
    "            max_reward = 1\n",
    "            for j in range(i + 1, len(nums)):\n",
    "                if nums[i] < nums[j]:\n",
    "                    reward_with_j = 1 + calculate_length_reward(j)\n",
    "                    max_reward = max(reward_with_j, max_reward)\n",
    "            return max_reward\n",
    "    \n",
    "    rewards = []\n",
    "    for i in range(len(nums)):\n",
    "        rewards.append(calculate_length_reward(i))\n",
    "    return max(rewards)\n",
    "\n",
    "print(find_max_length(nums))"
   ]
  },
  {
   "cell_type": "code",
   "execution_count": 45,
   "id": "adb78391",
   "metadata": {
    "metadata": {}
   },
   "outputs": [
    {
     "data": {
      "text/plain": [
       "10"
      ]
     },
     "execution_count": 45,
     "metadata": {},
     "output_type": "execute_result"
    }
   ],
   "source": [
    "# Example 3: 2140. Solving Questions With Brainpower\n",
    "\n",
    "# You are given a 0-indexed 2D integer array questions where questions[i] = [pointsi,brainpoweri​]. \n",
    "# You have to process the questions in order. \n",
    "# Solving question i will earn you pointsi​ points but you will be unable to solve each of the next brainpoweri​ questions. \n",
    "# If you skip question i, you get to decide on the next question. Return the maximum points you can score.\n",
    "\n",
    "def calculate_max_points_from_all_questions(questions):\n",
    "    max_points = {}\n",
    "    i_max = (len(questions) - 1)\n",
    "\n",
    "    def calculate_max_points_from_qi(i):\n",
    "        if i > i_max:\n",
    "            return 0\n",
    "        \n",
    "        if i not in max_points:\n",
    "        \n",
    "            if i == i_max:\n",
    "                max_points[i] = questions[i][0]\n",
    "\n",
    "            else:\n",
    "                skip = questions[i][1]\n",
    "                max_points_if_solve = questions[i][0] + calculate_max_points_from_qi(i + 1 + skip)\n",
    "                max_points_if_skip = calculate_max_points_from_qi(i + 1)\n",
    "                max_points[i] = max(max_points_if_solve, max_points_if_skip)\n",
    "                # print(max_points_if_solve, max_points_if_skip)\n",
    "\n",
    "        return max_points[i]\n",
    "\n",
    "    result = calculate_max_points_from_qi(0)\n",
    "\n",
    "    return result\n",
    "\n",
    "questions = [\n",
    "    [3, 2],\n",
    "    [4, 3],\n",
    "    [5, 2],\n",
    "    [6, 1],\n",
    "    [7, 0]\n",
    "]\n",
    "\n",
    "calculate_max_points_from_all_questions(questions)"
   ]
  },
  {
   "cell_type": "code",
   "execution_count": 65,
   "id": "2dff5e62",
   "metadata": {
    "metadata": {}
   },
   "outputs": [
    {
     "data": {
      "text/plain": [
       "-1"
      ]
     },
     "execution_count": 65,
     "metadata": {},
     "output_type": "execute_result"
    }
   ],
   "source": [
    "# 322. Coin Change\n",
    "# You are given an integer array coins representing coins of different denominations \n",
    "# and an integer amount representing a total amount of money.\n",
    "# Return the fewest number of coins that you need to make up that amount.\n",
    "# If that amount of money cannot be made up by any combination of the coins, return -1.\n",
    "# You may assume that you have an infinite number of each kind of coin.\n",
    "\n",
    "def find_minimum_number_of_coin_steps(coins, amount):\n",
    "\n",
    "    def find_minimum_number_of_coin_steps_for_amount(current_amount):\n",
    "        if current_amount > amount:\n",
    "            return None\n",
    "        if current_amount == amount:\n",
    "            return 0\n",
    "        if min_steps_by_amount[current_amount] != float('inf'):\n",
    "            return min_steps_by_amount[current_amount]\n",
    "        for coin in coins:\n",
    "            new_amount = current_amount + coin\n",
    "            if new_amount <= amount:\n",
    "                new_steps = 1 + find_minimum_number_of_coin_steps_for_amount(new_amount)\n",
    "                min_steps_by_amount[current_amount] = min(min_steps_by_amount[current_amount], new_steps)\n",
    "        \n",
    "        return min_steps_by_amount[current_amount]    \n",
    "\n",
    "    min_steps_by_amount = [float('inf')] * (amount + 1) # minimand\n",
    "    minimum_total_steps = find_minimum_number_of_coin_steps_for_amount(0)\n",
    "    if minimum_total_steps == float('inf'):\n",
    "        return -1\n",
    "    else:\n",
    "        return minimum_total_steps\n",
    " \n",
    "coins = [1, 5, 10, 25]\n",
    "amount = 63\n",
    "find_minimum_number_of_coin_steps(coins, amount)"
   ]
  },
  {
   "cell_type": "markdown",
   "id": "552d205b",
   "metadata": {},
   "source": [
    "## Multidimensional Problems"
   ]
  },
  {
   "cell_type": "code",
   "execution_count": 82,
   "id": "1ec66448",
   "metadata": {
    "metadata": {}
   },
   "outputs": [
    {
     "name": "stdout",
     "output_type": "stream",
     "text": [
      "655\n"
     ]
    }
   ],
   "source": [
    "# Example 2: 188. Best Time to Buy and Sell Stock IV\n",
    "\n",
    "# You are given an integer array prices \n",
    "# where prices[i] is the price of a given stock on the ith day, \n",
    "# and an integer k. \n",
    "# You can buy the stock and sell it, \n",
    "# but you can only hold on to one unit of stock at any given time. \n",
    "# Find the maximum profit you can achieve with at most k transactions.\n",
    "\n",
    "# state = (day, have_stock, trades_remaining)\n",
    "# actions / transitions = buy_stock if not have_stock, sell_stock if have_stock (and n_trades < k)\n",
    "# return = -prices[i] if buy_stock, +prices if sell_stock\n",
    "\n",
    "def find_max_profit_from_t0(prices, k):\n",
    "\n",
    "    def find_max_profit_from_current_state(i, own_stock, remaining_trades):\n",
    "        if remaining_trades == 0:\n",
    "            return 0\n",
    "        \n",
    "        if i == i_max:\n",
    "            if own_stock:\n",
    "                return prices[i]\n",
    "            if not own_stock:\n",
    "                return 0\n",
    "\n",
    "        state = (i, own_stock, remaining_trades)\n",
    "\n",
    "        if state in max_return_by_state:\n",
    "            return max_return_by_state[state]\n",
    "\n",
    "        profit_hold = find_max_profit_from_current_state(i + 1, own_stock, remaining_trades)\n",
    "\n",
    "        if not own_stock:\n",
    "            profit_buy = - prices[i] + find_max_profit_from_current_state(i + 1, True, remaining_trades - 1)\n",
    "            max_return_by_state[state] = max(profit_hold, profit_buy)\n",
    "        \n",
    "        if own_stock:\n",
    "            profit_sell = + prices[i] + find_max_profit_from_current_state(i + 1, False, remaining_trades - 1) \n",
    "            max_return_by_state[state] = max(profit_hold, profit_sell)\n",
    "        \n",
    "        return max_return_by_state[state]\n",
    "\n",
    "    max_return_by_state = {}\n",
    "    i_max = len(prices) - 1\n",
    "    max_return = find_max_profit_from_current_state(i=0, own_stock=False, remaining_trades=k)\n",
    "    return max_return\n",
    "\n",
    "\n",
    "prices = [100, 180, 260, 310, 40, 535, 695]\n",
    "k = 2\n",
    "print(find_max_profit_from_t0(prices, k))\n"
   ]
  },
  {
   "cell_type": "code",
   "execution_count": 37,
   "id": "23dacdee",
   "metadata": {
    "metadata": {}
   },
   "outputs": [
    {
     "name": "stdout",
     "output_type": "stream",
     "text": [
      "30\n"
     ]
    }
   ],
   "source": [
    "# Example 3: 2218. Maximum Value of K Coins From Piles\n",
    "\n",
    "# There are n piles of coins on a table. \n",
    "# Each pile consists of a positive number of coins of assorted denominations.\n",
    "# In one move, you can choose any coin on top of any pile, remove it, and add it to your wallet. \n",
    "# Given a list piles, where piles[i] is a list of integers denoting the composition of the ith pile from top to bottom, \n",
    "# and a positive integer k, \n",
    "# return the maximum total value of coins you can have in your wallet \n",
    "# if you choose exactly k coins optimally.\n",
    "\n",
    "from collections import deque\n",
    "\n",
    "# state = coin timestep, pile structure\n",
    "# maximand = total value of coins\n",
    "# action = which pile to remove a coin from \n",
    "\n",
    "def find_max_value_all_coins(piles, k):\n",
    "\n",
    "    def max_value_by_state(i, piles_queue):\n",
    "        if i == k:\n",
    "            return 0\n",
    "        \n",
    "        if len(piles_queue) == 0:\n",
    "            return 0\n",
    "\n",
    "        max_value = 0\n",
    "        for j in range(len(piles_queue)):\n",
    "            if piles_queue[j]:\n",
    "                coin = piles_queue[j].popleft()\n",
    "                current_value = coin + max_value_by_state(i + 1, piles_queue)\n",
    "                max_value = max(max_value, current_value)\n",
    "                piles_queue[j].appendleft(coin) # backtrack\n",
    "        \n",
    "        return max_value\n",
    "\n",
    "    piles_queue = [deque(pile) for pile in piles]\n",
    "    max_value = max_value_by_state(0, piles_queue)\n",
    "    return max_value\n",
    "\n",
    "piles = [[9, 8, 7], [6, 5, 4], [3, 2, 1]]\n",
    "k = 4\n",
    "print(find_max_value_all_coins(piles, k))\n"
   ]
  },
  {
   "cell_type": "markdown",
   "id": "b8ed2909",
   "metadata": {},
   "source": [
    "## Matrix Dynamic Programming"
   ]
  },
  {
   "cell_type": "code",
   "execution_count": 10,
   "id": "660c679e",
   "metadata": {
    "metadata": {}
   },
   "outputs": [
    {
     "name": "stdout",
     "output_type": "stream",
     "text": [
      "6\n"
     ]
    }
   ],
   "source": [
    "# Example 1: 62. Unique Paths\n",
    "\n",
    "# There is a robot on an m x n grid. \n",
    "# The robot is initially located at the top-left corner and wants to move to the bottom-right corner. \n",
    "# The robot can only move either down or right. \n",
    "# Given m and n, return the number of possible unique paths that the robot can take to reach the bottom-right corner.\n",
    "\n",
    "m = 3\n",
    "n = 3\n",
    "start = [0, 0]\n",
    "goal = [m - 1, n - 1]\n",
    "\n",
    "def count_paths_to_goal(location):\n",
    "    if location == goal:\n",
    "        return 1\n",
    "\n",
    "    right_paths = 0\n",
    "    if location[1] < goal[1]:\n",
    "        right_location = [location[0], location[1] + 1]\n",
    "        right_paths += count_paths_to_goal(right_location)\n",
    "\n",
    "    down_paths = 0\n",
    "    if location[0] < goal[0]:\n",
    "        down_location = [location[0] + 1, location[1]]\n",
    "        down_paths += count_paths_to_goal(down_location)\n",
    "\n",
    "    total_paths = down_paths + right_paths\n",
    "\n",
    "    return total_paths\n",
    "\n",
    "print(count_paths_to_goal(start))\n"
   ]
  },
  {
   "cell_type": "code",
   "execution_count": 15,
   "id": "60f09b44",
   "metadata": {
    "metadata": {}
   },
   "outputs": [
    {
     "name": "stdout",
     "output_type": "stream",
     "text": [
      "3\n"
     ]
    }
   ],
   "source": [
    "# Example 2: 64. Minimum Path Sum\n",
    "\n",
    "# Given a m x n grid filled with non-negative numbers, \n",
    "# find a path from top left to bottom right, \n",
    "# which minimizes the sum of all numbers along its path. \n",
    "# Return this sum. \n",
    "# You can only move down or right.\n",
    "\n",
    "\n",
    "def find_minimum_cost_path(grid):\n",
    "\n",
    "    def minimise_sum_to_goal(i, j):\n",
    "        if i == m and j == n:\n",
    "            return grid[i][j]\n",
    "\n",
    "        down_cost = float('inf')\n",
    "        right_cost = float('inf')\n",
    "\n",
    "        if (i, j) in min_cost_by_state:\n",
    "            return min_cost_by_state[(i, j)]\n",
    "\n",
    "        if i < m:\n",
    "            down_cost = grid[i][j] + minimise_sum_to_goal(i + 1, j)\n",
    "\n",
    "        if j < n:\n",
    "            right_cost = grid[i][j] + minimise_sum_to_goal(i, j + 1)\n",
    "\n",
    "        min_cost_by_state[(i, j)] = min(down_cost, right_cost)\n",
    "\n",
    "        return min_cost_by_state[(i, j)]\n",
    "\n",
    "    m = len(grid) - 1\n",
    "    n = len(grid[0]) - 1\n",
    "    min_cost_by_state = {}\n",
    "\n",
    "    return minimise_sum_to_goal(0,0)\n",
    "\n",
    "grid = [\n",
    "    [1, 3, 1, 2],\n",
    "    [1, 5, 1, 2],\n",
    "    [4, 2, 1, 2]\n",
    "]\n",
    "\n",
    "print(find_minimum_cost_path(grid))\n"
   ]
  }
 ],
 "metadata": {
  "kernelspec": {
   "display_name": "fd-rl",
   "language": "python",
   "name": "python3"
  },
  "language_info": {
   "codemirror_mode": {
    "name": "ipython",
    "version": 3
   },
   "file_extension": ".py",
   "mimetype": "text/x-python",
   "name": "python",
   "nbconvert_exporter": "python",
   "pygments_lexer": "ipython3",
   "version": "3.12.1"
  }
 },
 "nbformat": 4,
 "nbformat_minor": 5
}
