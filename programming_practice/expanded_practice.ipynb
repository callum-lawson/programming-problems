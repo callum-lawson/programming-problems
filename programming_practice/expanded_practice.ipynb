{
 "cells": [
  {
   "cell_type": "code",
   "execution_count": 2,
   "id": "69a25ee5",
   "metadata": {
    "metadata": {}
   },
   "outputs": [],
   "source": [
    "# Import libraries\n",
    "import numpy as np \n",
    "from typing import Optional\n",
    "import copy\n",
    "from collections import defaultdict\n",
    "from collections import deque\n",
    "from typing import List"
   ]
  },
  {
   "cell_type": "markdown",
   "id": "550d11b8",
   "metadata": {},
   "source": [
    "57. Insert Interval\n",
    "Medium\n",
    "Topics\n",
    "Companies\n",
    "Hint\n",
    "You are given an array of non-overlapping intervals intervals where intervals[i] = [starti, endi] represent the start and the end of the ith interval and intervals is sorted in ascending order by starti. You are also given an interval newInterval = [start, end] that represents the start and end of another interval.\n",
    "\n",
    "Insert newInterval into intervals such that intervals is still sorted in ascending order by starti and intervals still does not have any overlapping intervals (merge overlapping intervals if necessary).\n",
    "\n",
    "Return intervals after the insertion.\n",
    "\n",
    "Note that you don't need to modify intervals in-place. You can make a new array and return it.\n",
    "\n",
    " \n",
    "\n",
    "Example 1:\n",
    "\n",
    "Input: intervals = [[1,3],[6,9]], newInterval = [2,5]\n",
    "Output: [[1,5],[6,9]]\n",
    "Example 2:\n",
    "\n",
    "Input: intervals = [[1,2],[3,5],[6,7],[8,10],[12,16]], newInterval = [4,8]\n",
    "Output: [[1,2],[3,10],[12,16]]\n",
    "Explanation: Because the new interval [4,8] overlaps with [3,5],[6,7],[8,10].\n",
    " \n",
    "\n",
    "Constraints:\n",
    "\n",
    "0 <= intervals.length <= 104\n",
    "intervals[i].length == 2\n",
    "0 <= starti <= endi <= 105\n",
    "intervals is sorted by starti in ascending order.\n",
    "newInterval.length == 2\n",
    "0 <= start <= end <= 105"
   ]
  },
  {
   "cell_type": "code",
   "execution_count": 4,
   "id": "c0ab7100",
   "metadata": {},
   "outputs": [
    {
     "name": "stdout",
     "output_type": "stream",
     "text": [
      "[[1, 5], [6, 9]]\n"
     ]
    }
   ],
   "source": [
    "intervals = [[1,3],[6,9]]\n",
    "newInterval = [2,5]\n",
    "\n",
    "class Solution:\n",
    "    def insert(self, intervals: List[List[int]], newInterval: List[int]) -> List[List[int]]:\n",
    "        returned_intervals = []\n",
    "\n",
    "        for interval in intervals:\n",
    "\n",
    "            if interval[1] < newInterval[0]:\n",
    "                returned_intervals.append(interval)\n",
    "\n",
    "            elif interval[0] > newInterval[1]:\n",
    "                returned_intervals.append(newInterval)\n",
    "                newInterval = interval\n",
    "            else:\n",
    "                newInterval[0] = min(newInterval[0], interval[0])\n",
    "                newInterval[1] = max(newInterval[1], interval[1])\n",
    "\n",
    "        returned_intervals.append(newInterval)\n",
    "\n",
    "        return returned_intervals\n",
    "\n",
    "print(Solution().insert(intervals, newInterval))"
   ]
  },
  {
   "cell_type": "markdown",
   "id": "c543f5e4",
   "metadata": {},
   "source": [
    "973. K Closest Points to Origin\n",
    "Medium\n",
    "Topics\n",
    "Companies\n",
    "Given an array of points where points[i] = [xi, yi] represents a point on the X-Y plane and an integer k, return the k closest points to the origin (0, 0).\n",
    "\n",
    "The distance between two points on the X-Y plane is the Euclidean distance (i.e., √(x1 - x2)2 + (y1 - y2)2).\n",
    "\n",
    "You may return the answer in any order. The answer is guaranteed to be unique (except for the order that it is in).\n",
    "\n",
    " \n",
    "\n",
    "Example 1:\n",
    "\n",
    "\n",
    "Input: points = [[1,3],[-2,2]], k = 1\n",
    "Output: [[-2,2]]\n",
    "Explanation:\n",
    "The distance between (1, 3) and the origin is sqrt(10).\n",
    "The distance between (-2, 2) and the origin is sqrt(8).\n",
    "Since sqrt(8) < sqrt(10), (-2, 2) is closer to the origin.\n",
    "We only want the closest k = 1 points from the origin, so the answer is just [[-2,2]].\n",
    "Example 2:\n",
    "\n",
    "Input: points = [[3,3],[5,-1],[-2,4]], k = 2\n",
    "Output: [[3,3],[-2,4]]\n",
    "Explanation: The answer [[-2,4],[3,3]] would also be accepted.\n",
    " \n",
    "\n",
    "Constraints:\n",
    "\n",
    "1 <= k <= points.length <= 104\n",
    "-104 <= xi, yi <= 104"
   ]
  },
  {
   "cell_type": "code",
   "execution_count": 5,
   "id": "d2399ce7",
   "metadata": {},
   "outputs": [
    {
     "name": "stdout",
     "output_type": "stream",
     "text": [
      "[[-2, 2]]\n"
     ]
    }
   ],
   "source": [
    "import heapq\n",
    "\n",
    "points = [[1,3],[-2,2]]\n",
    "k = 1\n",
    "\n",
    "def find_k_shortest_distances(points, k):\n",
    "\n",
    "    min_k_distances = []\n",
    "    for point in points:\n",
    "        distance  = (point[0]**2 + point[1]**2)**(0.5)\n",
    "        heapq.heappush(min_k_distances, (-distance, point))\n",
    "        if len(min_k_distances) > k:\n",
    "            heapq.heappop(min_k_distances)\n",
    "\n",
    "    coordinates = [point for (distance, point) in min_k_distances]\n",
    "\n",
    "    return coordinates\n",
    "\n",
    "answer = find_k_shortest_distances(points, k)\n",
    "print(answer)\n",
    "\n",
    "# Output: [[-2,2]]\n"
   ]
  },
  {
   "cell_type": "markdown",
   "id": "3e8a5a69",
   "metadata": {},
   "source": [
    "Example 1: 1046. Last Stone Weight\n",
    "\n",
    "You are given an array of integers stones where stones[i] is the weight of the ithith stone. \n",
    "On each turn, we choose the heaviest two stones and smash them together. \n",
    "Suppose the heaviest two stones have weights x and y with x <= y. \n",
    "If x == y, then both stones are destroyed. \n",
    "If x != y, then x is destroyed and y loses x weight. \n",
    "Return the weight of the last remaining stone, or 0 if there are no stones left."
   ]
  },
  {
   "cell_type": "code",
   "execution_count": 4,
   "id": "7fede114",
   "metadata": {},
   "outputs": [
    {
     "name": "stdout",
     "output_type": "stream",
     "text": [
      "1\n"
     ]
    }
   ],
   "source": [
    "stones = [2,7,4,1,8,1]\n",
    "answer = 1\n",
    "# Explanation: \n",
    "# We combine 7 and 8 to get 1 so the array converts to [2,4,1,1,1] then,\n",
    "# we combine 2 and 4 to get 2 so the array converts to [2,1,1,1] then,\n",
    "# we combine 2 and 1 to get 1 so the array converts to [1,1,1] then,\n",
    "# we combine 1 and 1 to get 0 so the array converts to [1] then that's the value of the last stone.\n",
    "\n",
    "import heapq\n",
    "\n",
    "def smash_stones(stones):\n",
    "\n",
    "    max_heap = []\n",
    "    for stone in stones:\n",
    "        heapq.heappush(max_heap, -stone)\n",
    "\n",
    "    while len(max_heap) > 1:\n",
    "        stone_one = heapq.heappop(max_heap)\n",
    "        stone_two = heapq.heappop(max_heap)\n",
    "        stone_after_smash = stone_one - stone_two\n",
    "        if stone_after_smash != 0:\n",
    "            heapq.heappush(max_heap, stone_after_smash)\n",
    "\n",
    "    if len(max_heap) == 0:\n",
    "        return 0\n",
    "    else:\n",
    "        return -max_heap[0]\n",
    "\n",
    "answer = smash_stones(stones)\n",
    "print(answer)"
   ]
  },
  {
   "cell_type": "markdown",
   "id": "c7082166",
   "metadata": {},
   "source": [
    "Example 2: 2208. Minimum Operations to Halve Array Sum\n",
    "\n",
    "You are given an array nums of positive integers. \n",
    "In one operation, you can choose any number from nums and reduce it to exactly half the number. \n",
    "Return the minimum number of operations to reduce the sum of nums by at least half.\n",
    "\n",
    "Input: nums = [5,19,8,1]\n",
    "Output: 3\n",
    "Explanation: The initial sum of nums is equal to 5 + 19 + 8 + 1 = 33.\n",
    "The following is one of the ways to reduce the sum by at least half:\n",
    "Pick the number 19 and reduce it to 9.5.\n",
    "Pick the number 9.5 and reduce it to 4.75.\n",
    "Pick the number 8 and reduce it to 4.\n",
    "The final array is [5, 4.75, 4, 1] with a total sum of 5 + 4.75 + 4 + 1 = 14.75. \n",
    "The sum of nums has been reduced by 33 - 14.75 = 18.25, which is at least half of the initial sum, 18.25 >= 33/2 = 16.5.\n",
    "Overall, 3 operations were used so we return 3.\n",
    "It can be shown that we cannot reduce the sum by at least half in less than 3 operations."
   ]
  },
  {
   "cell_type": "code",
   "execution_count": 13,
   "id": "ae89d1f4",
   "metadata": {},
   "outputs": [
    {
     "name": "stdout",
     "output_type": "stream",
     "text": [
      "[-19, -5, -8, -1]\n",
      "3\n"
     ]
    }
   ],
   "source": [
    "import heapq\n",
    "\n",
    "nums = [5,19,8,1]\n",
    "answer = 3\n",
    "\n",
    "def find_min_operations_to_halve_sum(nums):\n",
    "\n",
    "    current_sum = sum(nums)\n",
    "    target_sum = current_sum / 2\n",
    "    neg_nums = [-num for num in nums]\n",
    "    heapq.heapify(neg_nums)\n",
    "    print(neg_nums)\n",
    "    operations_count = 0\n",
    "\n",
    "    while current_sum > target_sum:\n",
    "        popped_num = heapq.heappop(neg_nums)\n",
    "        halved_num = popped_num / 2\n",
    "        current_sum += halved_num # reversed because negative\n",
    "        operations_count += 1\n",
    "        heapq.heappush(neg_nums, halved_num)\n",
    "\n",
    "    return operations_count\n",
    "\n",
    "answer = find_min_operations_to_halve_sum(nums)\n",
    "print(answer)\n"
   ]
  },
  {
   "cell_type": "markdown",
   "id": "9c50c729",
   "metadata": {},
   "source": [
    "Example 1: 347. Top K Frequent Elements\n",
    "\n",
    "Given an integer array nums and an integer k, return the k most frequent elements. It is guaranteed that the answer is unique."
   ]
  },
  {
   "cell_type": "code",
   "execution_count": 17,
   "id": "0275e70d",
   "metadata": {},
   "outputs": [
    {
     "name": "stdout",
     "output_type": "stream",
     "text": [
      "Counter({1: 3, 2: 2, 3: 1})\n",
      "None\n"
     ]
    }
   ],
   "source": [
    "from collections import Counter\n",
    "import heapq\n",
    "\n",
    "class Solution:\n",
    "    def topKFrequent(self, nums, k: int):\n",
    "        counts = Counter(nums) # creates hashmap count table\n",
    "        heap = []\n",
    "        \n",
    "        for key, val in counts.items():\n",
    "            heapq.heappush(heap, (val, key)) # heappush uses first value of the tuple (val) by default\n",
    "            if len(heap) > k:\n",
    "                heapq.heappop(heap)\n",
    "        \n",
    "        return [pair[1] for pair in heap]\n",
    "    \n",
    "nums = [1,1,1,2,2,3]\n",
    "k = 2\n",
    "answer= [1,2]\n",
    "\n",
    "print(Solution().topKFrequent(nums, k))"
   ]
  },
  {
   "cell_type": "markdown",
   "id": "172590a2",
   "metadata": {},
   "source": [
    "Example 2: 658. Find K Closest Elements\n",
    "\n",
    "Given a sorted integer array arr, two integers k and x, return the k closest integers to x. \n",
    "The answer should also be sorted in ascending order. If there are ties, take the smaller elements."
   ]
  },
  {
   "cell_type": "code",
   "execution_count": 20,
   "id": "d30608ed",
   "metadata": {},
   "outputs": [
    {
     "name": "stdout",
     "output_type": "stream",
     "text": [
      "[2, 3, 4, 5]\n"
     ]
    }
   ],
   "source": [
    "arr = [1,2,3,4,5]\n",
    "k = 4\n",
    "x = 3\n",
    "answer = [1,2,3,4]\n",
    "import heapq\n",
    "\n",
    "def find_closest_elements(arr, k, x):\n",
    "    # Create a max heap to keep track of the k closest elements.\n",
    "    # We use a tuple where the first element is the negative of the absolute difference to use it as a max heap.\n",
    "    max_heap = []\n",
    "    for num in arr:\n",
    "        diff = abs(num - x)\n",
    "        # Push the negative difference and the number into the heap.\n",
    "        heapq.heappush(max_heap, (-diff, num))\n",
    "        # If the heap exceeds size k, pop the largest difference element (max heap behavior).\n",
    "        if len(max_heap) > k:\n",
    "            heapq.heappop(max_heap)\n",
    "\n",
    "    # Extract the elements from the heap and sort them before returning.\n",
    "    # Only the numbers are needed, not the differences.\n",
    "    result = [num for diff, num in max_heap]\n",
    "    result.sort()\n",
    "    return result\n",
    "\n",
    "# Example usage\n",
    "arr = [1, 2, 3, 4, 5]\n",
    "k = 4\n",
    "x = 3\n",
    "answer = find_closest_elements(arr, k, x)\n",
    "print(answer)\n"
   ]
  },
  {
   "cell_type": "markdown",
   "id": "ea6d16f2",
   "metadata": {},
   "source": [
    "3. Longest Substring Without Repeating Characters\n",
    "Medium\n",
    "Topics\n",
    "Companies\n",
    "Hint\n",
    "Given a string s, find the length of the longest substring without repeating characters.\n",
    "\n",
    "Example 1:\n",
    "\n",
    "Input: s = \"abcabcbb\"\n",
    "Output: 3\n",
    "Explanation: The answer is \"abc\", with the length of 3.\n",
    "Example 2:\n",
    "\n",
    "Input: s = \"bbbbb\"\n",
    "Output: 1\n",
    "Explanation: The answer is \"b\", with the length of 1.\n",
    "Example 3:\n",
    "\n",
    "Input: s = \"pwwkew\"\n",
    "Output: 3\n",
    "Explanation: The answer is \"wke\", with the length of 3.\n",
    "Notice that the answer must be a substring, \"pwke\" is a subsequence and not a substring.\n",
    " \n",
    "\n",
    "Constraints:\n",
    "\n",
    "0 <= s.length <= 5 * 104\n",
    "s consists of English letters, digits, symbols and spaces."
   ]
  },
  {
   "cell_type": "code",
   "execution_count": 20,
   "id": "669446ed",
   "metadata": {},
   "outputs": [
    {
     "name": "stdout",
     "output_type": "stream",
     "text": [
      "3\n"
     ]
    }
   ],
   "source": [
    "class Solution:\n",
    "    def lengthOfLongestSubstring(self, s: str) -> int:\n",
    "        seen = set()\n",
    "        left = 0\n",
    "        current_length = 0 \n",
    "        max_length = 0\n",
    "        for right in range(len(s)):\n",
    "            if s[right] not in seen:\n",
    "                seen.add(s[right])\n",
    "            else:\n",
    "                while s[right] in seen:\n",
    "                    seen.remove(s[left])\n",
    "                    left += 1\n",
    "                seen.add(s[right])\n",
    "\n",
    "            current_length = right - left + 1\n",
    "            max_length = max(max_length, current_length)\n",
    "\n",
    "        return max_length\n",
    "\n",
    "s = \"abcabcbb\"\n",
    "answer = 3\n",
    "print(Solution().lengthOfLongestSubstring(s))\n"
   ]
  },
  {
   "cell_type": "markdown",
   "id": "59f58ef2",
   "metadata": {},
   "source": [
    "102. Binary Tree Level Order Traversal\n",
    "Medium\n",
    "Topics\n",
    "Companies\n",
    "Given the root of a binary tree, return the level order traversal of its nodes' values. (i.e., from left to right, level by level).\n",
    "\n",
    " \n",
    "\n",
    "Example 1:\n",
    "\n",
    "\n",
    "Input: TreeNode(val: 3, left: TreeNode(val: 9, left: None, right: None), right: TreeNode(val: 20, left: TreeNode(val: 15, left: None, right: None), right: TreeNode(val: 7, left: None, right: None)))\n",
    "Output: [[3],[9,20],[15,7]]\n",
    "Example 2:\n",
    "\n",
    "Input: root = [1]\n",
    "Output: [[1]]\n",
    "Example 3:\n",
    "\n",
    "Input: root = []\n",
    "Output: []\n",
    " \n",
    "\n",
    "Constraints:\n",
    "\n",
    "The number of nodes in the tree is in the range [0, 2000].\n",
    "-1000 <= Node.val <= 1000"
   ]
  },
  {
   "cell_type": "code",
   "execution_count": 30,
   "id": "b7118b14",
   "metadata": {},
   "outputs": [
    {
     "name": "stdout",
     "output_type": "stream",
     "text": [
      "[[3], [9, 20], [15, 7]]\n"
     ]
    }
   ],
   "source": [
    "from collections import deque\n",
    "\n",
    "class TreeNode:\n",
    "    def __init__(self, val=0, left=None, right=None):\n",
    "        self.val = val\n",
    "        self.left = left\n",
    "        self.right = right\n",
    "\n",
    "root = TreeNode(val = 3, \n",
    "        left = TreeNode(val = 9, left = None, right = None), \n",
    "        right = TreeNode(val = 20, \n",
    "                        left = TreeNode(val = 15, \n",
    "                                       left = None, \n",
    "                                       right = None), \n",
    "                        right = TreeNode(val = 7, \n",
    "                                        left = None, \n",
    "                                        right = None)))\n",
    "\n",
    "class Solution:\n",
    "    def levelOrder(self, root: Optional[TreeNode]) -> List[List[int]]:\n",
    "        if not root:\n",
    "            return []\n",
    "        node_values = []\n",
    "        node_queue = deque([root])\n",
    "        while node_queue:\n",
    "            n_nodes_in_level = len(node_queue)\n",
    "            level_values = []\n",
    "            for _ in range(n_nodes_in_level):\n",
    "                current_node = node_queue.popleft()\n",
    "                level_values.append(current_node.val)\n",
    "                if current_node.left:\n",
    "                    node_queue.append(current_node.left)\n",
    "                if current_node.right:\n",
    "                    node_queue.append(current_node.right)\n",
    "            node_values.append(level_values)\n",
    "        return node_values\n",
    "        \n",
    "print(Solution().levelOrder(root))"
   ]
  },
  {
   "cell_type": "markdown",
   "id": "7fb7b24d",
   "metadata": {},
   "source": [
    "721. Accounts Merge\n",
    "Medium\n",
    "Topics\n",
    "Companies\n",
    "Hint\n",
    "Given a list of accounts where each element accounts[i] is a list of strings, where the first element accounts[i][0] is a name, and the rest of the elements are emails representing emails of the account.\n",
    "\n",
    "Now, we would like to merge these accounts. Two accounts definitely belong to the same person if there is some common email to both accounts. Note that even if two accounts have the same name, they may belong to different people as people could have the same name. A person can have any number of accounts initially, but all of their accounts definitely have the same name.\n",
    "\n",
    "After merging the accounts, return the accounts in the following format: the first element of each account is the name, and the rest of the elements are emails in sorted order. The accounts themselves can be returned in any order.\n",
    "\n",
    " \n",
    "\n",
    "Example 1:\n",
    "\n",
    "Input: accounts = [[\"John\",\"johnsmith@mail.com\",\"john_newyork@mail.com\"],[\"John\",\"johnsmith@mail.com\",\"john00@mail.com\"],[\"Mary\",\"mary@mail.com\"],[\"John\",\"johnnybravo@mail.com\"]]\n",
    "Output: [[\"John\",\"john00@mail.com\",\"john_newyork@mail.com\",\"johnsmith@mail.com\"],[\"Mary\",\"mary@mail.com\"],[\"John\",\"johnnybravo@mail.com\"]]\n",
    "Explanation:\n",
    "The first and second John's are the same person as they have the common email \"johnsmith@mail.com\".\n",
    "The third John and Mary are different people as none of their email addresses are used by other accounts.\n",
    "We could return these lists in any order, for example the answer [['Mary', 'mary@mail.com'], ['John', 'johnnybravo@mail.com'], \n",
    "['John', 'john00@mail.com', 'john_newyork@mail.com', 'johnsmith@mail.com']] would still be accepted.\n",
    "Example 2:\n",
    "\n",
    "Input: accounts = [[\"Gabe\",\"Gabe0@m.co\",\"Gabe3@m.co\",\"Gabe1@m.co\"],[\"Kevin\",\"Kevin3@m.co\",\"Kevin5@m.co\",\"Kevin0@m.co\"],[\"Ethan\",\"Ethan5@m.co\",\"Ethan4@m.co\",\"Ethan0@m.co\"],[\"Hanzo\",\"Hanzo3@m.co\",\"Hanzo1@m.co\",\"Hanzo0@m.co\"],[\"Fern\",\"Fern5@m.co\",\"Fern1@m.co\",\"Fern0@m.co\"]]\n",
    "Output: [[\"Ethan\",\"Ethan0@m.co\",\"Ethan4@m.co\",\"Ethan5@m.co\"],[\"Gabe\",\"Gabe0@m.co\",\"Gabe1@m.co\",\"Gabe3@m.co\"],[\"Hanzo\",\"Hanzo0@m.co\",\"Hanzo1@m.co\",\"Hanzo3@m.co\"],[\"Kevin\",\"Kevin0@m.co\",\"Kevin3@m.co\",\"Kevin5@m.co\"],[\"Fern\",\"Fern0@m.co\",\"Fern1@m.co\",\"Fern5@m.co\"]]"
   ]
  },
  {
   "cell_type": "code",
   "execution_count": 6,
   "id": "369713c0",
   "metadata": {},
   "outputs": [
    {
     "name": "stdout",
     "output_type": "stream",
     "text": [
      "['John', 'johnsmith@mail.com', 'john_newyork@mail.com', 'john00@mail.com']\n"
     ]
    }
   ],
   "source": [
    "# Solution: graph DFS\n",
    "# https://chatgpt.com/c/9c123179-cb55-4de3-a55a-49308992b8b5\n",
    "# https://leetcode.com/problems/accounts-merge/solutions/2014051/python-easy-to-read-and-understand-dfs/\n",
    "\n",
    "class Solution:\n",
    "    def dfs(self, graph, node, visit):\n",
    "        # Add the current node (email) to the visited set\n",
    "        visit.add(node)\n",
    "        # Traverse all connected nodes (emails) that have not been visited\n",
    "        for nei in graph[node]:\n",
    "            if nei not in visit:\n",
    "                self.dfs(graph, nei, visit)\n",
    "        # Collect all nodes reached from the starting node in self.res\n",
    "        self.res.append(node)\n",
    "    \n",
    "    def accountsMerge(self, accounts: List[List[str]]) -> List[List[str]]:\n",
    "        # Initialize a graph where each node is an email and edges connect emails in the same account\n",
    "        graph = collections.defaultdict(set)\n",
    "        for account in accounts:\n",
    "            # Link the first email with every other email in the same account and vice versa\n",
    "            for email in account[1:]:\n",
    "                graph[account[1]].add(email)\n",
    "                graph[email].add(account[1])\n",
    "        # Initialize a set to keep track of visited emails\n",
    "        visit = set()\n",
    "        # List to store the result after merging accounts\n",
    "        ans = []\n",
    "        for account in accounts:\n",
    "            name = account[0]  # Get the account name\n",
    "            for email in account[1:]:\n",
    "                if email not in visit:\n",
    "                    # Reset self.res to collect all emails connected to this one via DFS\n",
    "                    self.res = []\n",
    "                    self.dfs(graph, email, visit)\n",
    "                    # Add the merged account with sorted emails to the final answer\n",
    "                    ans.append([name]+sorted(self.res))\n",
    "        return ans\n"
   ]
  }
 ],
 "metadata": {
  "kernelspec": {
   "display_name": "fd-rl",
   "language": "python",
   "name": "python3"
  },
  "language_info": {
   "codemirror_mode": {
    "name": "ipython",
    "version": 3
   },
   "file_extension": ".py",
   "mimetype": "text/x-python",
   "name": "python",
   "nbconvert_exporter": "python",
   "pygments_lexer": "ipython3",
   "version": "3.12.1"
  }
 },
 "nbformat": 4,
 "nbformat_minor": 5
}
