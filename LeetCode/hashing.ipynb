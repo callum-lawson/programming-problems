{
 "cells": [
  {
   "cell_type": "code",
   "execution_count": null,
   "id": "6d13cc1b",
   "metadata": {},
   "outputs": [],
   "source": [
    "# Import libraries\n",
    "import numpy as np \n",
    "from typing import Optional\n",
    "import copy\n",
    "from collections import defaultdict\n",
    "from collections import deque"
   ]
  },
  {
   "cell_type": "markdown",
   "id": "3c7a278d",
   "metadata": {},
   "source": [
    "## Hashing"
   ]
  },
  {
   "cell_type": "markdown",
   "id": "2682964e",
   "metadata": {},
   "source": [
    "### Checking for existence"
   ]
  },
  {
   "cell_type": "code",
   "execution_count": null,
   "id": "9c63b816",
   "metadata": {},
   "outputs": [
    {
     "name": "stdout",
     "output_type": "stream",
     "text": [
      "[0, 4]\n",
      "[2, 3]\n"
     ]
    }
   ],
   "source": [
    "# Example 1: 1. Two Sum\n",
    "\n",
    "# Given an array of integers nums and an integer target,\n",
    "# return indices of two numbers such that they add up to target. \n",
    "# You cannot use the same index twice.\n",
    "\n",
    "class TwoSumSolution:\n",
    "    def find_indices_matching_sum(self, nums, target):\n",
    "        hashmap = {}\n",
    "\n",
    "        for i in range(len(nums)):\n",
    "            if nums[i] not in hashmap.keys():\n",
    "                hashmap[nums[i]] = [i]\n",
    "            else:\n",
    "                hashmap[nums[i]].append(i)\n",
    "\n",
    "        for key1 in hashmap.keys():\n",
    "            for key2 in reversed(hashmap.keys()):\n",
    "                current_sum = key1 + key2\n",
    "                if current_sum == target:\n",
    "                    if key1 != key2:\n",
    "                        return [hashmap[key1][0], hashmap[key2][0]]\n",
    "                    else:\n",
    "                        return hashmap[key1][:2]\n",
    "                    \n",
    "        print('no pairs match')\n",
    "\n",
    "\n",
    "nums1 = [1, 1, 1, 1, 9]\n",
    "nums2 = [1, 3, 5, 5, 6]\n",
    "target = 10\n",
    "print(TwoSumSolution().find_indices_matching_sum(nums1, target))\n",
    "print(TwoSumSolution().find_indices_matching_sum(nums2, target))\n",
    "\n",
    "# This can be made a lot faster by looking directly in the keys for [complement = target - current value]"
   ]
  },
  {
   "cell_type": "code",
   "execution_count": null,
   "id": "5c8209af",
   "metadata": {},
   "outputs": [
    {
     "name": "stdout",
     "output_type": "stream",
     "text": [
      "a\n"
     ]
    }
   ],
   "source": [
    "# Example 2: 2351. First Letter to Appear Twice\n",
    "\n",
    "# Given a string s, return the first character to appear twice. \n",
    "# It is guaranteed that the input will have a duplicate character.\n",
    "\n",
    "class LetterTwiceSolution:\n",
    "    def find_first_letter_appearing_twice(self, s):\n",
    "        hashmap = {}\n",
    "                    \n",
    "        for char in s:\n",
    "            if char not in hashmap.keys():\n",
    "                hashmap[char] = 1\n",
    "            else:\n",
    "                return(char)\n",
    "\n",
    "\n",
    "s = \"abcdeab\"\n",
    "print(LetterTwiceSolution().find_first_letter_appearing_twice(s))\n",
    "\n",
    "# value is True-False, so using set() is better"
   ]
  },
  {
   "cell_type": "code",
   "execution_count": null,
   "id": "6a551928",
   "metadata": {},
   "outputs": [
    {
     "name": "stdout",
     "output_type": "stream",
     "text": [
      "[1, 3, 5, 7]\n"
     ]
    }
   ],
   "source": [
    "# Example 3: Given an integer array nums, \n",
    "# find all the unique numbers x in nums that satisfy the following: \n",
    "# x + 1 is not in nums, and x - 1 is not in nums.\n",
    "\n",
    "class NoNeighboursSolution:\n",
    "    def find_nums_without_neighbours(self, nums):\n",
    "        uniques = set()\n",
    "        \n",
    "        for num in nums:\n",
    "            if num not in uniques:\n",
    "                uniques.add(num)\n",
    "\n",
    "        satisfying = []\n",
    "\n",
    "        for num in uniques:\n",
    "            if not (num - 1 in uniques and num + 1 in uniques):\n",
    "                satisfying.append(num)\n",
    "\n",
    "        return satisfying\n",
    "\n",
    "\n",
    "nums = [1, 3, 4, 5, 7]\n",
    "print(NoNeighboursSolution().find_nums_without_neighbours(nums))\n",
    "\n",
    "# No need for a loop to create the set; just use set(nums) directly"
   ]
  },
  {
   "cell_type": "markdown",
   "id": "8639dd46",
   "metadata": {},
   "source": [
    "### Counts"
   ]
  },
  {
   "cell_type": "code",
   "execution_count": null,
   "id": "99bea787",
   "metadata": {},
   "outputs": [
    {
     "name": "stdout",
     "output_type": "stream",
     "text": [
      "3\n"
     ]
    }
   ],
   "source": [
    "# Example 1: You are given a string s and an integer k. \n",
    "# Find the length of the longest substring \n",
    "# that contains at most k distinct characters.\n",
    "\n",
    "class LongestSubstringSolution:\n",
    "    def find_longest_substring_with_k_distinct(self, s, k):\n",
    "        left = 0\n",
    "        characters = defaultdict(int)  \n",
    "        max_len_substr = 1\n",
    "\n",
    "        for right in range(len(s)):\n",
    "\n",
    "            if s[right] not in characters:\n",
    "                characters[s[right]] = 1\n",
    "            else:\n",
    "                characters[s[right]] += 1\n",
    "\n",
    "            while len(characters) > k:\n",
    "                \n",
    "                if characters[s[left]] == 1:\n",
    "                    del characters[s[left]]\n",
    "                else:\n",
    "                    characters[s[left]] -= 1\n",
    "                \n",
    "                left += 1\n",
    "\n",
    "            cur_len_substr = 1 + right - left\n",
    "            max_len_substr = max(cur_len_substr, max_len_substr)\n",
    "        \n",
    "        return max_len_substr\n",
    "\n",
    "\n",
    "s = \"eceba\"\n",
    "k = 2\n",
    "print(LongestSubstringSolution().find_longest_substring_with_k_distinct(s, k))\n"
   ]
  },
  {
   "cell_type": "code",
   "execution_count": null,
   "id": "a9c48a5b",
   "metadata": {},
   "outputs": [
    {
     "name": "stdout",
     "output_type": "stream",
     "text": [
      "[3, 4]\n"
     ]
    }
   ],
   "source": [
    "# Example 2: 2248. Intersection of Multiple Arrays\n",
    "\n",
    "# Given a 2D array nums that contains n arrays of distinct integers, \n",
    "# return a sorted array containing all the numbers that appear in all n arrays.\n",
    "\n",
    "class IntersectionSolution:\n",
    "    def which_nums_in_all_arrays(self, nums):\n",
    "        counts = defaultdict(int)\n",
    "\n",
    "        for i in range(len(nums)):\n",
    "            for j in range(len(nums[i])):\n",
    "                counts[nums[i][j]] += 1\n",
    "\n",
    "        appear_in_all = []\n",
    "\n",
    "        for key, value in counts.items():\n",
    "            if value == len(nums):\n",
    "                appear_in_all.append(key)\n",
    "\n",
    "        return(appear_in_all)\n",
    "\n",
    "nums = [[3,1,2,4,5],[1,2,3,4],[3,4,5,6]]\n",
    "print(IntersectionSolution().which_nums_in_all_arrays(nums))\n",
    "# return [3, 4]; 3 and 4 are the only numbers that are in all arrays."
   ]
  },
  {
   "cell_type": "code",
   "execution_count": null,
   "id": "bae40c5e",
   "metadata": {},
   "outputs": [
    {
     "name": "stdout",
     "output_type": "stream",
     "text": [
      "True\n",
      "False\n"
     ]
    }
   ],
   "source": [
    "# Example 3: 1941. Check if All Characters Have Equal Number of Occurrences\n",
    "\n",
    "# Given a string s, determine if all characters have the same frequency.\n",
    "\n",
    "class EqualOccurencesSolution:\n",
    "    def are_character_frequencies_equal(self, s):\n",
    "        frequencies = defaultdict(int)\n",
    "        for i in range(len(s)):\n",
    "            frequencies[s[i]] += 1\n",
    "        \n",
    "        all_values_identical = len(set(frequencies.values())) == 1\n",
    "\n",
    "        return all_values_identical\n",
    "\n",
    "s1 = \"abacbc\"\n",
    "print(EqualOccurencesSolution().are_character_frequencies_equal(s1))\n",
    "# return true. All characters appear twice. \n",
    "\n",
    "s2 = \"aaabb\"\n",
    "print(EqualOccurencesSolution().are_character_frequencies_equal(s2))\n",
    "# return false. \"a\" appears 3 times, \"b\" appears 2 times. 3 != 2."
   ]
  },
  {
   "cell_type": "code",
   "execution_count": null,
   "id": "905b9b98",
   "metadata": {},
   "outputs": [
    {
     "name": "stdout",
     "output_type": "stream",
     "text": [
      "6\n"
     ]
    }
   ],
   "source": [
    "# Example 4: 560. Subarray Sum Equals K\n",
    "\n",
    "# Given an integer array nums and an integer k, \n",
    "# find the number of subarrays whose sum is equal to k.\n",
    "\n",
    "class SubarraySumSolution():\n",
    "    def count_subarrays_with_sum_k(self, nums, k):\n",
    "\n",
    "        cumsum = 0\n",
    "        cumsum_counts = defaultdict(int)\n",
    "        cumsum_counts[0] = 1\n",
    "        valid_subarrays = 0\n",
    "\n",
    "        for right in range(len(nums)):\n",
    "            cumsum += nums[right]\n",
    "            cumsum_counts[cumsum] += 1 # save to dictionary for future iterations\n",
    "            valid_start_cumusum = cumsum - k\n",
    "            valid_subarrays += cumsum_counts[valid_start_cumusum] # add valid subarrays to total\n",
    "\n",
    "        return valid_subarrays\n",
    "\n",
    "\n",
    "nums = [1, 2, 0, 2, -1, 1, 3]\n",
    "k = 2\n",
    "print(SubarraySumSolution().count_subarrays_with_sum_k(nums, k))"
   ]
  },
  {
   "cell_type": "code",
   "execution_count": null,
   "id": "89f4cc10",
   "metadata": {},
   "outputs": [
    {
     "name": "stdout",
     "output_type": "stream",
     "text": [
      "2\n"
     ]
    }
   ],
   "source": [
    "# Example 5: 1248. Count Number of Nice Subarrays\n",
    "\n",
    "# Given an array of positive integers nums and an integer k, \n",
    "# Find the number of subarrays with exactly k odd numbers in them.\n",
    "\n",
    "class NiceSubarraysSolution:\n",
    "    def count_nice_subarrays(self, nums, k):\n",
    "        \n",
    "        cumulative_odd = 0\n",
    "        cumulative_odd_history = defaultdict(int)\n",
    "        cumulative_odd_history[0] = 1\n",
    "        valid_subarrays = 0\n",
    "\n",
    "        for right in range(len(nums)):\n",
    "\n",
    "            if nums[right] % 2 == 1:\n",
    "                cumulative_odd += 1\n",
    "\n",
    "            cumulative_odd_history[cumulative_odd] += 1 \n",
    "            valid_left_brackets = cumulative_odd_history[cumulative_odd - k]\n",
    "            valid_subarrays += valid_left_brackets\n",
    "        \n",
    "        return valid_subarrays\n",
    "\n",
    "nums = [1, 1, 2, 1, 1]\n",
    "k = 3\n",
    "print(NiceSubarraysSolution().count_nice_subarrays(nums, k))\n",
    "# answer is 2. The subarrays with 3 odd numbers in them are [1, 1, 2, 1, 1] and [1, 1, 2, 1, 1]."
   ]
  },
  {
   "cell_type": "markdown",
   "id": "cb53cf30",
   "metadata": {},
   "source": [
    "### More Hashing Examples"
   ]
  },
  {
   "cell_type": "code",
   "execution_count": null,
   "id": "1777610b",
   "metadata": {},
   "outputs": [
    {
     "name": "stdout",
     "output_type": "stream",
     "text": [
      "1\n"
     ]
    }
   ],
   "source": [
    "# Example 2: 2260. Minimum Consecutive Cards to Pick Up\n",
    "\n",
    "# Given an integer array cards, \n",
    "# find the length of the shortest subarray that contains at least one duplicate. \n",
    "# If the array has no duplicates, return -1.\n",
    "\n",
    "class DuplicateSolution:\n",
    "    def shortest_subarray_min_one_duplicates(self, cards):\n",
    "        min_subarray_length = len(cards)\n",
    "        cards_in_window = defaultdict(int)\n",
    "        left = 0\n",
    "\n",
    "        for right in range(len(cards)):\n",
    "\n",
    "            cards_in_window[cards[right]] += 1\n",
    "\n",
    "            while max(cards_in_window.values()) > 1:\n",
    "                cards_in_window[cards[left]] -= 1\n",
    "                left += 1\n",
    "\n",
    "            current_subarray_length = 1 + right - left\n",
    "            min_subarray_length = min(current_subarray_length, min_subarray_length)\n",
    "                \n",
    "        if min_subarray_length < len(cards):\n",
    "            return min_subarray_length\n",
    "        else:\n",
    "            return -1\n",
    "\n",
    "cards = [1,2,3,4,1,5]\n",
    "print(DuplicateSolution().shortest_subarray_min_one_duplicates(cards))\n",
    "\n",
    "# Incomplete; better trick: compile indices of all values and find the shortest distance between any two "
   ]
  },
  {
   "cell_type": "code",
   "execution_count": null,
   "id": "a283b3ce",
   "metadata": {},
   "outputs": [
    {
     "name": "stdout",
     "output_type": "stream",
     "text": [
      "42\n"
     ]
    }
   ],
   "source": [
    "# Example 3: 2342. Max Sum of a Pair With Equal Sum of Digits\n",
    "\n",
    "# Given an array of integers nums, \n",
    "# find the maximum value of nums[i] + nums[j], \n",
    "# where nums[i] and nums[j] have the same digit sum (the sum of their individual digits). \n",
    "# Return -1 if there is no pair of numbers with the same digit sum.\n",
    "\n",
    "class EqualDigitSumSolution:\n",
    "    def find_max_sum_of_same_digit_sum_pair(self, nums):\n",
    "\n",
    "        current_record = 0\n",
    "        max_dict = defaultdict(int)\n",
    "\n",
    "        for i in range(len(nums)):\n",
    "\n",
    "            current_digit_sum = sum(int(digit) for digit in str(nums[i]))\n",
    "\n",
    "            if current_digit_sum not in max_dict.keys():\n",
    "\n",
    "                max_dict[current_digit_sum] = nums[i]\n",
    "\n",
    "            else:\n",
    "\n",
    "                record_attempt = max_dict[current_digit_sum] + nums[i]\n",
    "                current_record = max(record_attempt, current_record)\n",
    "\n",
    "                if nums[i] > max_dict[current_digit_sum]:\n",
    "\n",
    "                    max_dict[current_digit_sum] = nums[i] # update if new max for that digit sum\n",
    "\n",
    "        if current_record > 0:\n",
    "    \n",
    "            return current_record\n",
    "        \n",
    "        else:\n",
    "\n",
    "            return -1\n",
    "\n",
    "nums = [1, 12, 30]\n",
    "print(EqualDigitSumSolution().find_max_sum_of_same_digit_sum_pair(nums))"
   ]
  }
 ],
 "metadata": {
  "kernelspec": {
   "display_name": "fd-rl",
   "language": "python",
   "name": "python3"
  },
  "language_info": {
   "codemirror_mode": {
    "name": "ipython",
    "version": 3
   },
   "file_extension": ".py",
   "mimetype": "text/x-python",
   "name": "python",
   "nbconvert_exporter": "python",
   "pygments_lexer": "ipython3",
   "version": "3.12.1"
  }
 },
 "nbformat": 4,
 "nbformat_minor": 5
}
