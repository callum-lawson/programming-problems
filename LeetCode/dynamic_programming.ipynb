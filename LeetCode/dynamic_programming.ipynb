{
 "cells": [
  {
   "cell_type": "code",
   "execution_count": 1,
   "id": "9512ed0c",
   "metadata": {},
   "outputs": [],
   "source": [
    "# Import libraries\n",
    "import numpy as np \n",
    "from typing import Optional\n",
    "import copy\n",
    "from collections import defaultdict\n",
    "from collections import deque"
   ]
  },
  {
   "cell_type": "markdown",
   "id": "54484bd5",
   "metadata": {},
   "source": [
    "# Dynamic Programming"
   ]
  },
  {
   "cell_type": "code",
   "execution_count": 1,
   "id": "25c55043",
   "metadata": {
    "metadata": {}
   },
   "outputs": [
    {
     "data": {
      "text/plain": [
       "45"
      ]
     },
     "execution_count": 1,
     "metadata": {},
     "output_type": "execute_result"
    }
   ],
   "source": [
    "# You are given an integer array cost where cost[i] is the cost of the ith step on a staircase. \n",
    "# Once you pay the cost, you can either climb one or two steps. \n",
    "# You can either start from the step with index 0, or the step with index 1.\n",
    "# Return the minimum cost to reach the top of the floor (outside the array, not the last index of cost).\n",
    "\n",
    "def cumulative_cost(step, cost, memo):\n",
    "    if memo[step] is not None:\n",
    "        return memo[step]\n",
    "    else:\n",
    "        if step in [0, 1]:\n",
    "            return 0\n",
    "        else:\n",
    "            step_minus_1 = step - 1\n",
    "            step_minus_2 = step - 2\n",
    "            cost_step_minus_1 = cost[step_minus_1] + cumulative_cost(step_minus_1, cost, memo)\n",
    "            cost_step_minus_2 = cost[step_minus_2] + cumulative_cost(step_minus_2, cost, memo)\n",
    "            memo[step] = min(cost_step_minus_1, cost_step_minus_2)\n",
    "            return memo[step]\n",
    "\n",
    "cost = [10, 15, 20, 5, 30, 25, 10]\n",
    "total_steps = len(cost)\n",
    "memo = [None] * (total_steps + 1) # + 1 for top step (no cost)\n",
    "cumulative_cost(total_steps, cost, memo)"
   ]
  },
  {
   "cell_type": "code",
   "execution_count": null,
   "id": "70909aa4",
   "metadata": {},
   "outputs": [],
   "source": [
    "# Step-climbing: top-down and bottom-up solutions\n",
    "\n",
    "def minimum_cost_climbing_stairs(costs):\n",
    "    def compute_minimum_cost(step_index):\n",
    "        if step_index <= 1:\n",
    "            return 0\n",
    "        if step_index in memoization:\n",
    "            return memoization[step_index]\n",
    "        memoization[step_index] = min(compute_minimum_cost(step_index - 1) + costs[step_index - 1], \n",
    "                                      compute_minimum_cost(step_index - 2) + costs[step_index - 2])\n",
    "        return memoization[step_index]\n",
    "    \n",
    "    memoization = {}\n",
    "    return compute_minimum_cost(len(costs))\n",
    "\n",
    "\n",
    "def minimum_cost_climbing_stairs_iterative(costs):\n",
    "    number_of_steps = len(costs)\n",
    "    dp_costs = [0] * (number_of_steps + 1)\n",
    "    for step_index in range(2, number_of_steps + 1):\n",
    "        dp_costs[step_index] = min(dp_costs[step_index - 1] + costs[step_index - 1], \n",
    "                                   dp_costs[step_index - 2] + costs[step_index - 2])\n",
    "    return dp_costs[number_of_steps]\n"
   ]
  }
 ],
 "metadata": {
  "kernelspec": {
   "display_name": "fd-rl",
   "language": "python",
   "name": "python3"
  },
  "language_info": {
   "codemirror_mode": {
    "name": "ipython",
    "version": 3
   },
   "file_extension": ".py",
   "mimetype": "text/x-python",
   "name": "python",
   "nbconvert_exporter": "python",
   "pygments_lexer": "ipython3",
   "version": "3.12.1"
  }
 },
 "nbformat": 4,
 "nbformat_minor": 5
}
