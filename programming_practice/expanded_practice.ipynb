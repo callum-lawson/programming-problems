{
 "cells": [
  {
   "cell_type": "code",
   "execution_count": 2,
   "id": "69a25ee5",
   "metadata": {
    "metadata": {}
   },
   "outputs": [],
   "source": [
    "# Import libraries\n",
    "import numpy as np \n",
    "from typing import Optional\n",
    "import copy\n",
    "from collections import defaultdict\n",
    "from collections import deque\n",
    "from typing import List"
   ]
  },
  {
   "cell_type": "markdown",
   "id": "550d11b8",
   "metadata": {},
   "source": [
    "57. Insert Interval\n",
    "Medium\n",
    "Topics\n",
    "Companies\n",
    "Hint\n",
    "You are given an array of non-overlapping intervals intervals where intervals[i] = [starti, endi] represent the start and the end of the ith interval and intervals is sorted in ascending order by starti. You are also given an interval newInterval = [start, end] that represents the start and end of another interval.\n",
    "\n",
    "Insert newInterval into intervals such that intervals is still sorted in ascending order by starti and intervals still does not have any overlapping intervals (merge overlapping intervals if necessary).\n",
    "\n",
    "Return intervals after the insertion.\n",
    "\n",
    "Note that you don't need to modify intervals in-place. You can make a new array and return it.\n",
    "\n",
    " \n",
    "\n",
    "Example 1:\n",
    "\n",
    "Input: intervals = [[1,3],[6,9]], newInterval = [2,5]\n",
    "Output: [[1,5],[6,9]]\n",
    "Example 2:\n",
    "\n",
    "Input: intervals = [[1,2],[3,5],[6,7],[8,10],[12,16]], newInterval = [4,8]\n",
    "Output: [[1,2],[3,10],[12,16]]\n",
    "Explanation: Because the new interval [4,8] overlaps with [3,5],[6,7],[8,10].\n",
    " \n",
    "\n",
    "Constraints:\n",
    "\n",
    "0 <= intervals.length <= 104\n",
    "intervals[i].length == 2\n",
    "0 <= starti <= endi <= 105\n",
    "intervals is sorted by starti in ascending order.\n",
    "newInterval.length == 2\n",
    "0 <= start <= end <= 105"
   ]
  },
  {
   "cell_type": "code",
   "execution_count": 4,
   "id": "c0ab7100",
   "metadata": {},
   "outputs": [
    {
     "name": "stdout",
     "output_type": "stream",
     "text": [
      "[[1, 5], [6, 9]]\n"
     ]
    }
   ],
   "source": [
    "intervals = [[1,3],[6,9]]\n",
    "newInterval = [2,5]\n",
    "\n",
    "class Solution:\n",
    "    def insert(self, intervals: List[List[int]], newInterval: List[int]) -> List[List[int]]:\n",
    "        returned_intervals = []\n",
    "\n",
    "        for interval in intervals:\n",
    "\n",
    "            if interval[1] < newInterval[0]:\n",
    "                returned_intervals.append(interval)\n",
    "\n",
    "            elif interval[0] > newInterval[1]:\n",
    "                returned_intervals.append(newInterval)\n",
    "                newInterval = interval\n",
    "            else:\n",
    "                newInterval[0] = min(newInterval[0], interval[0])\n",
    "                newInterval[1] = max(newInterval[1], interval[1])\n",
    "\n",
    "        returned_intervals.append(newInterval)\n",
    "\n",
    "        return returned_intervals\n",
    "\n",
    "print(Solution().insert(intervals, newInterval))"
   ]
  },
  {
   "cell_type": "markdown",
   "id": "c543f5e4",
   "metadata": {},
   "source": [
    "973. K Closest Points to Origin\n",
    "Medium\n",
    "Topics\n",
    "Companies\n",
    "Given an array of points where points[i] = [xi, yi] represents a point on the X-Y plane and an integer k, return the k closest points to the origin (0, 0).\n",
    "\n",
    "The distance between two points on the X-Y plane is the Euclidean distance (i.e., √(x1 - x2)2 + (y1 - y2)2).\n",
    "\n",
    "You may return the answer in any order. The answer is guaranteed to be unique (except for the order that it is in).\n",
    "\n",
    " \n",
    "\n",
    "Example 1:\n",
    "\n",
    "\n",
    "Input: points = [[1,3],[-2,2]], k = 1\n",
    "Output: [[-2,2]]\n",
    "Explanation:\n",
    "The distance between (1, 3) and the origin is sqrt(10).\n",
    "The distance between (-2, 2) and the origin is sqrt(8).\n",
    "Since sqrt(8) < sqrt(10), (-2, 2) is closer to the origin.\n",
    "We only want the closest k = 1 points from the origin, so the answer is just [[-2,2]].\n",
    "Example 2:\n",
    "\n",
    "Input: points = [[3,3],[5,-1],[-2,4]], k = 2\n",
    "Output: [[3,3],[-2,4]]\n",
    "Explanation: The answer [[-2,4],[3,3]] would also be accepted.\n",
    " \n",
    "\n",
    "Constraints:\n",
    "\n",
    "1 <= k <= points.length <= 104\n",
    "-104 <= xi, yi <= 104"
   ]
  },
  {
   "cell_type": "code",
   "execution_count": null,
   "id": "d2399ce7",
   "metadata": {},
   "outputs": [],
   "source": [
    "# Heaps: TODO"
   ]
  },
  {
   "cell_type": "markdown",
   "id": "ea6d16f2",
   "metadata": {},
   "source": [
    "3. Longest Substring Without Repeating Characters\n",
    "Medium\n",
    "Topics\n",
    "Companies\n",
    "Hint\n",
    "Given a string s, find the length of the longest substring without repeating characters.\n",
    "\n",
    "Example 1:\n",
    "\n",
    "Input: s = \"abcabcbb\"\n",
    "Output: 3\n",
    "Explanation: The answer is \"abc\", with the length of 3.\n",
    "Example 2:\n",
    "\n",
    "Input: s = \"bbbbb\"\n",
    "Output: 1\n",
    "Explanation: The answer is \"b\", with the length of 1.\n",
    "Example 3:\n",
    "\n",
    "Input: s = \"pwwkew\"\n",
    "Output: 3\n",
    "Explanation: The answer is \"wke\", with the length of 3.\n",
    "Notice that the answer must be a substring, \"pwke\" is a subsequence and not a substring.\n",
    " \n",
    "\n",
    "Constraints:\n",
    "\n",
    "0 <= s.length <= 5 * 104\n",
    "s consists of English letters, digits, symbols and spaces."
   ]
  },
  {
   "cell_type": "code",
   "execution_count": 20,
   "id": "669446ed",
   "metadata": {},
   "outputs": [
    {
     "name": "stdout",
     "output_type": "stream",
     "text": [
      "3\n"
     ]
    }
   ],
   "source": [
    "class Solution:\n",
    "    def lengthOfLongestSubstring(self, s: str) -> int:\n",
    "        seen = set()\n",
    "        left = 0\n",
    "        current_length = 0 \n",
    "        max_length = 0\n",
    "        for right in range(len(s)):\n",
    "            if s[right] not in seen:\n",
    "                seen.add(s[right])\n",
    "            else:\n",
    "                while s[right] in seen:\n",
    "                    seen.remove(s[left])\n",
    "                    left += 1\n",
    "                seen.add(s[right])\n",
    "\n",
    "            current_length = right - left + 1\n",
    "            max_length = max(max_length, current_length)\n",
    "\n",
    "        return max_length\n",
    "\n",
    "s = \"abcabcbb\"\n",
    "answer = 3\n",
    "print(Solution().lengthOfLongestSubstring(s))\n"
   ]
  },
  {
   "cell_type": "markdown",
   "id": "59f58ef2",
   "metadata": {},
   "source": [
    "102. Binary Tree Level Order Traversal\n",
    "Medium\n",
    "Topics\n",
    "Companies\n",
    "Given the root of a binary tree, return the level order traversal of its nodes' values. (i.e., from left to right, level by level).\n",
    "\n",
    " \n",
    "\n",
    "Example 1:\n",
    "\n",
    "\n",
    "Input: TreeNode(val: 3, left: TreeNode(val: 9, left: None, right: None), right: TreeNode(val: 20, left: TreeNode(val: 15, left: None, right: None), right: TreeNode(val: 7, left: None, right: None)))\n",
    "Output: [[3],[9,20],[15,7]]\n",
    "Example 2:\n",
    "\n",
    "Input: root = [1]\n",
    "Output: [[1]]\n",
    "Example 3:\n",
    "\n",
    "Input: root = []\n",
    "Output: []\n",
    " \n",
    "\n",
    "Constraints:\n",
    "\n",
    "The number of nodes in the tree is in the range [0, 2000].\n",
    "-1000 <= Node.val <= 1000"
   ]
  },
  {
   "cell_type": "code",
   "execution_count": 30,
   "id": "b7118b14",
   "metadata": {},
   "outputs": [
    {
     "name": "stdout",
     "output_type": "stream",
     "text": [
      "[[3], [9, 20], [15, 7]]\n"
     ]
    }
   ],
   "source": [
    "from collections import deque\n",
    "\n",
    "class TreeNode:\n",
    "    def __init__(self, val=0, left=None, right=None):\n",
    "        self.val = val\n",
    "        self.left = left\n",
    "        self.right = right\n",
    "\n",
    "root = TreeNode(val = 3, \n",
    "        left = TreeNode(val = 9, left = None, right = None), \n",
    "        right = TreeNode(val = 20, \n",
    "                        left = TreeNode(val = 15, \n",
    "                                       left = None, \n",
    "                                       right = None), \n",
    "                        right = TreeNode(val = 7, \n",
    "                                        left = None, \n",
    "                                        right = None)))\n",
    "\n",
    "class Solution:\n",
    "    def levelOrder(self, root: Optional[TreeNode]) -> List[List[int]]:\n",
    "        if not root:\n",
    "            return []\n",
    "        node_values = []\n",
    "        node_queue = deque([root])\n",
    "        while node_queue:\n",
    "            n_nodes_in_level = len(node_queue)\n",
    "            level_values = []\n",
    "            for _ in range(n_nodes_in_level):\n",
    "                current_node = node_queue.popleft()\n",
    "                level_values.append(current_node.val)\n",
    "                if current_node.left:\n",
    "                    node_queue.append(current_node.left)\n",
    "                if current_node.right:\n",
    "                    node_queue.append(current_node.right)\n",
    "            node_values.append(level_values)\n",
    "        return node_values\n",
    "        \n",
    "print(Solution().levelOrder(root))"
   ]
  },
  {
   "cell_type": "markdown",
   "id": "7fb7b24d",
   "metadata": {},
   "source": []
  }
 ],
 "metadata": {
  "kernelspec": {
   "display_name": "fd-rl",
   "language": "python",
   "name": "python3"
  },
  "language_info": {
   "codemirror_mode": {
    "name": "ipython",
    "version": 3
   },
   "file_extension": ".py",
   "mimetype": "text/x-python",
   "name": "python",
   "nbconvert_exporter": "python",
   "pygments_lexer": "ipython3",
   "version": "3.12.1"
  }
 },
 "nbformat": 4,
 "nbformat_minor": 5
}
