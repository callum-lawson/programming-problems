{
 "cells": [
  {
   "cell_type": "code",
   "execution_count": 31,
   "id": "9512ed0c",
   "metadata": {
    "metadata": {}
   },
   "outputs": [],
   "source": [
    "# # Import libraries\n",
    "# import numpy as np \n",
    "# from typing import Optional\n",
    "# import copy\n",
    "# from collections import defaultdict\n",
    "# from collections import deque"
   ]
  },
  {
   "cell_type": "markdown",
   "id": "54484bd5",
   "metadata": {},
   "source": [
    "# Backtracking"
   ]
  },
  {
   "cell_type": "markdown",
   "id": "a3ac904c",
   "metadata": {},
   "source": [
    "**Example 1: 46. Permutations**\n",
    "\n",
    "Given an array nums of distinct integers, return all the possible permutations in any order.\n",
    "\n",
    "For example, given nums = [1, 2, 3], return [[1,2,3],[1,3,2],[2,1,3],[2,3,1],[3,1,2],[3,2,1]]."
   ]
  },
  {
   "cell_type": "code",
   "execution_count": 6,
   "id": "25c55043",
   "metadata": {
    "metadata": {}
   },
   "outputs": [
    {
     "name": "stdout",
     "output_type": "stream",
     "text": [
      "[[1, 2, 3], [1, 3, 2], [2, 1, 3], [2, 3, 1], [3, 1, 2], [3, 2, 1]]\n"
     ]
    }
   ],
   "source": [
    "nums = [1, 2, 3]\n",
    "answer = [[1,2,3],[1,3,2],[2,1,3],[2,3,1],[3,1,2],[3,2,1]]\n",
    "\n",
    "def find_all_permutations(nums):\n",
    "\n",
    "    len_nums = len(nums)\n",
    "    all_permutations = []\n",
    "\n",
    "    def add_number_or_return_permutation(current_permutation):\n",
    "\n",
    "        if len(current_permutation) == len_nums:\n",
    "            all_permutations.append(current_permutation[:])\n",
    "            # base case: permutation contains all the numbers => complete the permutation\n",
    "\n",
    "        for num in nums:\n",
    "            if num not in current_permutation: # could use a seen set instead for efficiency \n",
    "                current_permutation.append(num)\n",
    "                add_number_or_return_permutation(current_permutation) # modify in place\n",
    "                current_permutation.pop()\n",
    "\n",
    "    current_permutation = []\n",
    "    add_number_or_return_permutation(current_permutation)\n",
    "\n",
    "    return all_permutations\n",
    "\n",
    "answer = find_all_permutations(nums)\n",
    "print(answer)\n"
   ]
  },
  {
   "cell_type": "markdown",
   "id": "91ca5192",
   "metadata": {},
   "source": [
    "**Example 2: 78. Subsets**\n",
    "\n",
    "Given an integer array nums of unique elements, return all subsets in any order without duplicates.\n",
    "\n",
    "For example, given nums = [1, 2, 3], return [[],[1],[2],[1,2],[3],[1,3],[2,3],[1,2,3]]"
   ]
  },
  {
   "cell_type": "code",
   "execution_count": 16,
   "id": "61df2697",
   "metadata": {},
   "outputs": [
    {
     "name": "stdout",
     "output_type": "stream",
     "text": [
      "[[], [1], [1, 2], [1, 2, 3], [1, 3], [2], [2, 3], [3]]\n"
     ]
    }
   ],
   "source": [
    "nums = [1, 2, 3]\n",
    "answer = [[],[1],[2],[1,2],[3],[1,3],[2,3],[1,2,3]]\n",
    "\n",
    "def find_all_subsets(nums):\n",
    "    \n",
    "    list_of_subsets = []\n",
    "\n",
    "    def expand_or_return_subset(current_subset):\n",
    "\n",
    "        if current_subset not in list_of_subsets:\n",
    "            list_of_subsets.append(current_subset.copy())\n",
    "\n",
    "        for num in nums:\n",
    "            if num not in current_subset:\n",
    "                current_subset.add(num)\n",
    "                expand_or_return_subset(current_subset)\n",
    "                current_subset.remove(num)\n",
    "\n",
    "    current_subset = set()\n",
    "    expand_or_return_subset(current_subset)\n",
    "\n",
    "    subsets_as_lists = [list(x) for x in list_of_subsets]\n",
    "\n",
    "    return subsets_as_lists\n",
    "\n",
    "answer = find_all_subsets(nums)\n",
    "print(answer)\n",
    "\n",
    "# More efficient to loop over a ragged array: \n",
    "\n",
    "# for j in range(i, len(nums)):\n",
    "#     curr.append(nums[j])\n",
    "#     backtrack(curr, j + 1)\n",
    "#     curr.pop()"
   ]
  },
  {
   "cell_type": "markdown",
   "id": "4f450b63",
   "metadata": {},
   "source": [
    "Example 3: 77. Combinations\n",
    "\n",
    "Given two integers n and k, return all combinations of k numbers out of the range [1, n] in any order.\n",
    "\n",
    "For example, given n = 4, k = 2, return [[2,4],[3,4],[2,3],[1,2],[1,3],[1,4]]."
   ]
  },
  {
   "cell_type": "code",
   "execution_count": 24,
   "id": "ed7ed8b9",
   "metadata": {},
   "outputs": [
    {
     "name": "stdout",
     "output_type": "stream",
     "text": [
      "[[1, 2], [1, 3], [1, 4], [2, 3], [2, 4], [3, 2], [3, 4], [4, 2], [4, 3]]\n"
     ]
    }
   ],
   "source": [
    "n = 4\n",
    "k = 2\n",
    "answer = [[2,4],[3,4],[2,3],[1,2],[1,3],[1,4]]\n",
    "\n",
    "def return_all_k_combinations(n, k):\n",
    "\n",
    "    all_combos = []\n",
    "\n",
    "    def expand_or_return_combo(current_combo, i):\n",
    "\n",
    "        if len(current_combo) == k:\n",
    "            all_combos.append(current_combo[:])\n",
    "\n",
    "        for num in range(i, n + 1):\n",
    "            if num not in current_combo:\n",
    "                current_combo.append(num)\n",
    "                expand_or_return_combo(current_combo, i + 1)\n",
    "                current_combo.pop()\n",
    "\n",
    "    current_combo = []\n",
    "    expand_or_return_combo(current_combo, 1)\n",
    "\n",
    "    return all_combos\n",
    "\n",
    "answer = return_all_k_combinations(n, k)\n",
    "print(answer)"
   ]
  },
  {
   "attachments": {
    "image.png": {
     "image/png": "[encoded data removed]"
    }
   },
   "cell_type": "markdown",
   "id": "1810d891",
   "metadata": {},
   "source": [
    "**797. All Paths From Source to Target**\n",
    "Medium\n",
    "\n",
    "Given a directed acyclic graph (DAG) of n nodes labeled from 0 to n - 1, find all possible paths from node 0 to node n - 1 and return them in any order.\n",
    "\n",
    "The graph is given as follows: graph[i] is a list of all nodes you can visit from node i (i.e., there is a directed edge from node i to node graph[i][j]).\n",
    "\n",
    "![image.png](attachment:image.png)\n",
    "\n",
    "Example 1:\n",
    "\n",
    "\n",
    "Input: graph = [[1,2],[3],[3],[]]\n",
    "Output: [[0,1,3],[0,2,3]]\n",
    "Explanation: There are two paths: 0 -> 1 -> 3 and 0 -> 2 -> 3."
   ]
  },
  {
   "cell_type": "code",
   "execution_count": 9,
   "id": "b6f9d910",
   "metadata": {},
   "outputs": [
    {
     "name": "stdout",
     "output_type": "stream",
     "text": [
      "[[0, 1, 3], [0, 2, 3]]\n",
      "[[0, 4], [0, 3, 4], [0, 1, 3, 4], [0, 1, 2, 3, 4], [0, 1, 4]]\n"
     ]
    }
   ],
   "source": [
    "def find_all_paths_to_final_node(graph):\n",
    "\n",
    "    final_node = len(graph) - 1\n",
    "    paths_list = []\n",
    "\n",
    "    def extend_or_complete_path(current_path):\n",
    "\n",
    "        current_node = current_path[-1]\n",
    "\n",
    "        # base case: complete\n",
    "        if current_node == final_node:\n",
    "            paths_list.append(current_path[:])\n",
    "\n",
    "        # recursive case: extend\n",
    "        neighbours_current_node = graph[current_node]\n",
    "        for neighbour in neighbours_current_node:\n",
    "            if neighbour not in current_path:\n",
    "                current_path.append(neighbour)\n",
    "                extend_or_complete_path(current_path)\n",
    "                current_path.pop()\n",
    "\n",
    "    current_path = [0] # start at first node\n",
    "    extend_or_complete_path(current_path) # modifies paths_list in place\n",
    "\n",
    "    return paths_list\n",
    "\n",
    "# example 1\n",
    "answer = find_all_paths_to_final_node(graph)\n",
    "print(answer)\n",
    "graph = [[1,2],[3],[3],[]]\n",
    "# [[0,1,3],[0,2,3]]\n",
    "\n",
    "# example 2\n",
    "graph = [[4,3,1],[3,2,4],[3],[4],[]]\n",
    "answer = find_all_paths_to_final_node(graph)\n",
    "print(answer)\n",
    "# [[0,4],[0,3,4],[0,1,3,4],[0,1,2,3,4],[0,1,4]]"
   ]
  }
 ],
 "metadata": {
  "kernelspec": {
   "display_name": "fd-rl",
   "language": "python",
   "name": "python3"
  },
  "language_info": {
   "codemirror_mode": {
    "name": "ipython",
    "version": 3
   },
   "file_extension": ".py",
   "mimetype": "text/x-python",
   "name": "python",
   "nbconvert_exporter": "python",
   "pygments_lexer": "ipython3",
   "version": "3.11.7"
  }
 },
 "nbformat": 4,
 "nbformat_minor": 5
}
