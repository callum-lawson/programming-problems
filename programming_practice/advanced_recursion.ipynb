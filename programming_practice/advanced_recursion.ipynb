{
 "cells": [
  {
   "cell_type": "markdown",
   "id": "b7985cef",
   "metadata": {},
   "source": [
    "https://leetcode.com/explore/learn/card/recursion-ii/"
   ]
  },
  {
   "cell_type": "markdown",
   "id": "6850e489",
   "metadata": {},
   "source": [
    "## Divide and Conquer"
   ]
  },
  {
   "cell_type": "markdown",
   "id": "4ad77acd",
   "metadata": {},
   "source": [
    "Given an array of integers nums, sort the array in ascending order and return it.\n",
    "\n",
    "You must solve the problem without using any built-in functions in O(nlog(n)) time complexity and with the smallest space complexity possible.\n",
    "\n",
    "EXAMPLE 1\n",
    "\n",
    "Input: nums = [5,2,3,1]\n",
    "Output: [1,2,3,5]\n",
    "Explanation: After sorting the array, the positions of some numbers are not changed (for example, 2 and 3), while the positions of other numbers are changed (for example, 1 and 5).\n",
    "\n",
    "EXAMPLE 2\n",
    "\n",
    "Input: nums = [5,1,1,2,0,0]\n",
    "Output: [0,0,1,1,2,5]\n",
    "Explanation: Note that the values of nums are not necessairly unique."
   ]
  },
  {
   "cell_type": "code",
   "execution_count": 2,
   "id": "9beb64e7",
   "metadata": {},
   "outputs": [
    {
     "name": "stdout",
     "output_type": "stream",
     "text": [
      "[1, 2, 3, 5]\n"
     ]
    }
   ],
   "source": [
    "def merge_two_sorted_arrays(arr1, arr2):\n",
    "    merged_arr = []\n",
    "\n",
    "    if not arr1:\n",
    "        if arr2:\n",
    "            return arr2 \n",
    "        else:\n",
    "            return None\n",
    "    \n",
    "    if not arr2:\n",
    "        return arr1\n",
    "\n",
    "    i = 0\n",
    "    j = 0\n",
    "\n",
    "    while i < len(arr1) and j < len(arr2):\n",
    "        if arr1[i] <= arr2[j]:\n",
    "            merged_arr.append(arr1[i])\n",
    "            i += 1\n",
    "        else:\n",
    "            merged_arr.append(arr2[j])\n",
    "            j += 1\n",
    "\n",
    "    while i < len(arr1):\n",
    "        merged_arr.append(arr1[i])\n",
    "        i += 1\n",
    "\n",
    "    while j < len(arr2):\n",
    "        merged_arr.append(arr2[j])\n",
    "        j += 1\n",
    "\n",
    "    return merged_arr\n",
    "\n",
    "def sort_list(nums):\n",
    "    if len(nums) == 1:\n",
    "        return nums\n",
    "    half_len_nums = len(nums) // 2\n",
    "    arr1 = nums[0:half_len_nums]\n",
    "    arr2 = nums[half_len_nums:]\n",
    "    arr1_sorted = sort_list(arr1)\n",
    "    arr2_sorted = sort_list(arr2)\n",
    "    merged = merge_two_sorted_arrays(arr1_sorted, arr2_sorted)\n",
    "    return merged\n",
    "\n",
    "nums = [5,2,3,1]\n",
    "# Output: [1,2,3,5]\n",
    "answer = sort_list(nums)\n",
    "print(answer)\n"
   ]
  }
 ],
 "metadata": {
  "kernelspec": {
   "display_name": "fd-rl",
   "language": "python",
   "name": "python3"
  },
  "language_info": {
   "codemirror_mode": {
    "name": "ipython",
    "version": 3
   },
   "file_extension": ".py",
   "mimetype": "text/x-python",
   "name": "python",
   "nbconvert_exporter": "python",
   "pygments_lexer": "ipython3",
   "version": "3.11.7"
  }
 },
 "nbformat": 4,
 "nbformat_minor": 5
}
