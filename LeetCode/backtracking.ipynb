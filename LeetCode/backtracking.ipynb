{
 "cells": [
  {
   "cell_type": "code",
   "execution_count": 31,
   "id": "9512ed0c",
   "metadata": {
    "metadata": {}
   },
   "outputs": [],
   "source": [
    "# # Import libraries\n",
    "# import numpy as np \n",
    "# from typing import Optional\n",
    "# import copy\n",
    "# from collections import defaultdict\n",
    "# from collections import deque"
   ]
  },
  {
   "cell_type": "markdown",
   "id": "54484bd5",
   "metadata": {},
   "source": [
    "# Backtracking"
   ]
  },
  {
   "cell_type": "markdown",
   "id": "a3ac904c",
   "metadata": {},
   "source": [
    "**Example 1: 46. Permutations**\n",
    "\n",
    "Given an array nums of distinct integers, return all the possible permutations in any order.\n",
    "\n",
    "For example, given nums = [1, 2, 3], return [[1,2,3],[1,3,2],[2,1,3],[2,3,1],[3,1,2],[3,2,1]]."
   ]
  },
  {
   "cell_type": "code",
   "execution_count": 6,
   "id": "25c55043",
   "metadata": {
    "metadata": {}
   },
   "outputs": [
    {
     "name": "stdout",
     "output_type": "stream",
     "text": [
      "[[1, 2, 3], [1, 3, 2], [2, 1, 3], [2, 3, 1], [3, 1, 2], [3, 2, 1]]\n"
     ]
    }
   ],
   "source": [
    "nums = [1, 2, 3]\n",
    "answer = [[1,2,3],[1,3,2],[2,1,3],[2,3,1],[3,1,2],[3,2,1]]\n",
    "\n",
    "def find_all_permutations(nums):\n",
    "\n",
    "    len_nums = len(nums)\n",
    "    all_permutations = []\n",
    "\n",
    "    def add_number_or_return_permutation(current_permutation):\n",
    "\n",
    "        if len(current_permutation) == len_nums:\n",
    "            all_permutations.append(current_permutation[:])\n",
    "            # base case: permutation contains all the numbers => complete the permutation\n",
    "\n",
    "        for num in nums:\n",
    "            if num not in current_permutation: # could use a seen set instead for efficiency \n",
    "                current_permutation.append(num)\n",
    "                add_number_or_return_permutation(current_permutation) # modify in place\n",
    "                current_permutation.pop()\n",
    "\n",
    "    current_permutation = []\n",
    "    add_number_or_return_permutation(current_permutation)\n",
    "\n",
    "    return all_permutations\n",
    "\n",
    "answer = find_all_permutations(nums)\n",
    "print(answer)\n"
   ]
  },
  {
   "cell_type": "code",
   "execution_count": null,
   "metadata": {},
   "outputs": [],
   "source": []
  }
 ],
 "metadata": {
  "kernelspec": {
   "display_name": "fd-rl",
   "language": "python",
   "name": "python3"
  },
  "language_info": {
   "codemirror_mode": {
    "name": "ipython",
    "version": 3
   },
   "file_extension": ".py",
   "mimetype": "text/x-python",
   "name": "python",
   "nbconvert_exporter": "python",
   "pygments_lexer": "ipython3",
   "version": "3.11.7"
  }
 },
 "nbformat": 4,
 "nbformat_minor": 5
}
