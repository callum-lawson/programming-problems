{
 "cells": [
  {
   "cell_type": "code",
   "execution_count": 31,
   "id": "9512ed0c",
   "metadata": {
    "metadata": {}
   },
   "outputs": [],
   "source": [
    "# Import libraries\n",
    "import numpy as np \n",
    "from typing import Optional\n",
    "import copy\n",
    "from collections import defaultdict\n",
    "from collections import deque"
   ]
  },
  {
   "cell_type": "markdown",
   "id": "54484bd5",
   "metadata": {},
   "source": [
    "# Dynamic Programming"
   ]
  },
  {
   "cell_type": "code",
   "execution_count": 32,
   "id": "25c55043",
   "metadata": {
    "metadata": {}
   },
   "outputs": [
    {
     "data": {
      "text/plain": [
       "45"
      ]
     },
     "execution_count": 32,
     "metadata": {},
     "output_type": "execute_result"
    }
   ],
   "source": [
    "# You are given an integer array cost where cost[i] is the cost of the ith step on a staircase. \n",
    "# Once you pay the cost, you can either climb one or two steps. \n",
    "# You can either start from the step with index 0, or the step with index 1.\n",
    "# Return the minimum cost to reach the top of the floor (outside the array, not the last index of cost).\n",
    "\n",
    "def cumulative_cost(step, cost, memo):\n",
    "    if memo[step] is not None:\n",
    "        return memo[step]\n",
    "    else:\n",
    "        if step in [0, 1]:\n",
    "            return 0\n",
    "        else:\n",
    "            step_minus_1 = step - 1\n",
    "            step_minus_2 = step - 2\n",
    "            cost_step_minus_1 = cost[step_minus_1] + cumulative_cost(step_minus_1, cost, memo)\n",
    "            cost_step_minus_2 = cost[step_minus_2] + cumulative_cost(step_minus_2, cost, memo)\n",
    "            memo[step] = min(cost_step_minus_1, cost_step_minus_2)\n",
    "            return memo[step]\n",
    "\n",
    "cost = [10, 15, 20, 5, 30, 25, 10]\n",
    "total_steps = len(cost)\n",
    "memo = [None] * (total_steps + 1) # + 1 for top step (no cost)\n",
    "cumulative_cost(total_steps, cost, memo)"
   ]
  },
  {
   "cell_type": "code",
   "execution_count": 33,
   "id": "70909aa4",
   "metadata": {
    "metadata": {}
   },
   "outputs": [],
   "source": [
    "# Step-climbing: top-down and bottom-up solutions\n",
    "\n",
    "def minimum_cost_climbing_stairs(costs):\n",
    "    def compute_minimum_cost(step_index):\n",
    "        if step_index <= 1:\n",
    "            return 0\n",
    "        if step_index in memoization:\n",
    "            return memoization[step_index]\n",
    "        memoization[step_index] = min(compute_minimum_cost(step_index - 1) + costs[step_index - 1], \n",
    "                                      compute_minimum_cost(step_index - 2) + costs[step_index - 2])\n",
    "        return memoization[step_index]\n",
    "    \n",
    "    memoization = {}\n",
    "    return compute_minimum_cost(len(costs))\n",
    "\n",
    "\n",
    "def minimum_cost_climbing_stairs_iterative(costs):\n",
    "    number_of_steps = len(costs)\n",
    "    dp_costs = [0] * (number_of_steps + 1)\n",
    "    for step_index in range(2, number_of_steps + 1):\n",
    "        dp_costs[step_index] = min(dp_costs[step_index - 1] + costs[step_index - 1], \n",
    "                                   dp_costs[step_index - 2] + costs[step_index - 2])\n",
    "    return dp_costs[number_of_steps]\n"
   ]
  },
  {
   "cell_type": "code",
   "execution_count": 34,
   "id": "f2369e40",
   "metadata": {
    "metadata": {}
   },
   "outputs": [
    {
     "data": {
      "text/plain": [
       "670"
      ]
     },
     "execution_count": 34,
     "metadata": {},
     "output_type": "execute_result"
    }
   ],
   "source": [
    "# Example 1: 198. House Robber\n",
    "\n",
    "# You are planning to rob houses along a street. \n",
    "# The ith house has nums[i] money. \n",
    "# If you rob two houses beside each other, the alarm system will trigger and alert the police. \n",
    "# What is the most money you can rob without alerting the police?\n",
    "\n",
    "house_money = [120, 50, 300, 200, 100, 250]\n",
    "len_houses = len(house_money)\n",
    "value_optimal_action = [None] * len_houses\n",
    "\n",
    "def calculate_house_value(i, house_money, value_optimal_action):\n",
    "    imax = len(house_money) - 1\n",
    "\n",
    "    if i > imax:\n",
    "        return 0\n",
    "    \n",
    "    if i == imax:\n",
    "        return house_money[i]\n",
    "    \n",
    "    if value_optimal_action[i] is not None:\n",
    "        return value_optimal_action[i]\n",
    "    \n",
    "    else:\n",
    "        value_rob_here = house_money[i] + calculate_house_value(i + 2, house_money, value_optimal_action)\n",
    "        value_rob_next = calculate_house_value(i + 1, house_money, value_optimal_action)\n",
    "        value_optimal_action[i] = max(value_rob_here, value_rob_next)\n",
    "        return value_optimal_action[i]\n",
    "    \n",
    "calculate_house_value(0, house_money, value_optimal_action)\n"
   ]
  },
  {
   "cell_type": "code",
   "execution_count": 35,
   "id": "c2418f5a",
   "metadata": {
    "metadata": {}
   },
   "outputs": [
    {
     "name": "stdout",
     "output_type": "stream",
     "text": [
      "670\n"
     ]
    }
   ],
   "source": [
    "from functools import cache\n",
    "\n",
    "def wrapper(house_money):\n",
    "    @cache\n",
    "    def calculate_house_value_cache(i):\n",
    "        imax = len(house_money) - 1\n",
    "\n",
    "        if i > imax:\n",
    "            return 0\n",
    "        \n",
    "        if i == imax:\n",
    "            return house_money[i]\n",
    "        \n",
    "        else:\n",
    "            value_rob_here = house_money[i] + calculate_house_value_cache(i + 2)\n",
    "            value_rob_next = calculate_house_value_cache(i + 1)\n",
    "            value_optimal_action = max(value_rob_here, value_rob_next)\n",
    "            return value_optimal_action\n",
    "        \n",
    "    return calculate_house_value_cache(0)\n",
    "\n",
    "print(wrapper(house_money))"
   ]
  },
  {
   "cell_type": "code",
   "execution_count": 16,
   "id": "b22f9db6",
   "metadata": {
    "metadata": {}
   },
   "outputs": [
    {
     "name": "stdout",
     "output_type": "stream",
     "text": [
      "4\n"
     ]
    }
   ],
   "source": [
    "# Example 2: 300. Longest Increasing Subsequence\n",
    "\n",
    "# Given an integer array nums, \n",
    "# return the length of the longest strictly increasing subsequence.\n",
    "\n",
    "from functools import cache\n",
    "\n",
    "nums = [10, 9, 2, 5, 3, 7, 101, 18]\n",
    "def find_max_length(nums):\n",
    "\n",
    "    @cache\n",
    "    def calculate_length_reward(i):\n",
    "        if i == (len(nums) - 1):\n",
    "            return 1\n",
    "        else:\n",
    "            max_reward = 1\n",
    "            for j in range(i + 1, len(nums)):\n",
    "                if nums[i] < nums[j]:\n",
    "                    reward_with_j = 1 + calculate_length_reward(j)\n",
    "                    max_reward = max(reward_with_j, max_reward)\n",
    "            return max_reward\n",
    "    \n",
    "    rewards = []\n",
    "    for i in range(len(nums)):\n",
    "        rewards.append(calculate_length_reward(i))\n",
    "    return max(rewards)\n",
    "\n",
    "print(find_max_length(nums))"
   ]
  },
  {
   "cell_type": "code",
   "execution_count": 45,
   "id": "adb78391",
   "metadata": {
    "metadata": {}
   },
   "outputs": [
    {
     "data": {
      "text/plain": [
       "10"
      ]
     },
     "execution_count": 45,
     "metadata": {},
     "output_type": "execute_result"
    }
   ],
   "source": [
    "# Example 3: 2140. Solving Questions With Brainpower\n",
    "\n",
    "# You are given a 0-indexed 2D integer array questions where questions[i] = [pointsi,brainpoweri​]. \n",
    "# You have to process the questions in order. \n",
    "# Solving question i will earn you pointsi​ points but you will be unable to solve each of the next brainpoweri​ questions. \n",
    "# If you skip question i, you get to decide on the next question. Return the maximum points you can score.\n",
    "\n",
    "def calculate_max_points_from_all_questions(questions):\n",
    "    max_points = {}\n",
    "    i_max = (len(questions) - 1)\n",
    "\n",
    "    def calculate_max_points_from_qi(i):\n",
    "        if i > i_max:\n",
    "            return 0\n",
    "        \n",
    "        if i not in max_points:\n",
    "        \n",
    "            if i == i_max:\n",
    "                max_points[i] = questions[i][0]\n",
    "\n",
    "            else:\n",
    "                skip = questions[i][1]\n",
    "                max_points_if_solve = questions[i][0] + calculate_max_points_from_qi(i + 1 + skip)\n",
    "                max_points_if_skip = calculate_max_points_from_qi(i + 1)\n",
    "                max_points[i] = max(max_points_if_solve, max_points_if_skip)\n",
    "                # print(max_points_if_solve, max_points_if_skip)\n",
    "\n",
    "        return max_points[i]\n",
    "\n",
    "    result = calculate_max_points_from_qi(0)\n",
    "\n",
    "    return result\n",
    "\n",
    "questions = [\n",
    "    [3, 2],\n",
    "    [4, 3],\n",
    "    [5, 2],\n",
    "    [6, 1],\n",
    "    [7, 0]\n",
    "]\n",
    "\n",
    "calculate_max_points_from_all_questions(questions)"
   ]
  }
 ],
 "metadata": {
  "kernelspec": {
   "display_name": "fd-rl",
   "language": "python",
   "name": "python3"
  },
  "language_info": {
   "codemirror_mode": {
    "name": "ipython",
    "version": 3
   },
   "file_extension": ".py",
   "mimetype": "text/x-python",
   "name": "python",
   "nbconvert_exporter": "python",
   "pygments_lexer": "ipython3",
   "version": "3.12.1"
  }
 },
 "nbformat": 4,
 "nbformat_minor": 5
}
