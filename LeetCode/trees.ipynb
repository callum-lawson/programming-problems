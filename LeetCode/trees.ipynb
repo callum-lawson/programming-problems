{
 "cells": [
  {
   "cell_type": "code",
   "execution_count": null,
   "id": "fe5cfbd5",
   "metadata": {},
   "outputs": [],
   "source": [
    "# Import libraries\n",
    "import numpy as np \n",
    "from typing import Optional\n",
    "import copy\n",
    "from collections import defaultdict\n",
    "from collections import deque"
   ]
  },
  {
   "cell_type": "markdown",
   "id": "7ceb94aa",
   "metadata": {},
   "source": [
    "## Binary Trees"
   ]
  },
  {
   "cell_type": "markdown",
   "id": "5010f77f",
   "metadata": {},
   "source": [
    "### Depth-first search"
   ]
  },
  {
   "cell_type": "code",
   "execution_count": null,
   "id": "272fc775",
   "metadata": {},
   "outputs": [],
   "source": [
    "class TreeNode:\n",
    "    def __init__(self, val=0, left=None, right=None):\n",
    "        self.val = val\n",
    "        self.left = left\n",
    "        self.right = right\n",
    "\n",
    "\n",
    "# Create the binary tree\n",
    "root = TreeNode(val=5)\n",
    "root.left = TreeNode(val=4, left=TreeNode(val=11, left=TreeNode(val=7), right=TreeNode(val=2)))\n",
    "root.right = TreeNode(val=8, left=TreeNode(val=13), right=TreeNode(val=4, left=None, right=TreeNode(val=1)))\n",
    "\n",
    "# Tree structure:\n",
    "#         5\n",
    "#        / \\\n",
    "#       4   8\n",
    "#      /   / \\\n",
    "#     11  13  4\n",
    "#    /  \\      \\\n",
    "#   7    2      1"
   ]
  },
  {
   "cell_type": "code",
   "execution_count": null,
   "id": "dbdd6128",
   "metadata": {},
   "outputs": [
    {
     "name": "stdout",
     "output_type": "stream",
     "text": [
      "4\n"
     ]
    }
   ],
   "source": [
    "# Example 1: 104. Maximum Depth of Binary Tree\n",
    "\n",
    "# Given the root of a binary tree, \n",
    "# find the length of the longest path from the root to a leaf.\n",
    "\n",
    "class LongestPathSolution:\n",
    "    def find_longest_path(self, root):\n",
    "        if root is None:\n",
    "            return 0\n",
    "        if root.left is None and root.right is None:\n",
    "            return 1\n",
    "        else:\n",
    "            longest_path = max(self.find_longest_path(root.left), self.find_longest_path(root.right)) + 1\n",
    "        \n",
    "        return longest_path\n",
    "\n",
    "print(LongestPathSolution().find_longest_path(root))"
   ]
  },
  {
   "cell_type": "code",
   "execution_count": null,
   "id": "4833a9f0",
   "metadata": {},
   "outputs": [
    {
     "name": "stdout",
     "output_type": "stream",
     "text": [
      "True\n"
     ]
    }
   ],
   "source": [
    "# Example 2: 112. Path Sum\n",
    "\n",
    "# Given the root of a binary tree and an integer targetSum,\n",
    "# return true if there exists a path from the root to a leaf \n",
    "# such that the sum of the nodes on the path is equal to targetSum, \n",
    "# and return false otherwise.\n",
    "\n",
    "class TargetSumSolution:\n",
    "    def contains_matching_sum(self, root, remaining_sum):\n",
    "        if root is None:\n",
    "            return False\n",
    "        if root.left is None and root.right is None:\n",
    "            return remaining_sum == root.val\n",
    "        else:\n",
    "            remaining_sum -= root.val\n",
    "            left_sum_matches_remainder = self.contains_matching_sum(root.left, remaining_sum)\n",
    "            right_sum_matches_remainder = self.contains_matching_sum(root.right, remaining_sum)\n",
    "            contains_matching_sum = left_sum_matches_remainder or right_sum_matches_remainder\n",
    "            return contains_matching_sum\n",
    "\n",
    "TARGET_SUM = 18\n",
    "print(TargetSumSolution().contains_matching_sum(root, TARGET_SUM))"
   ]
  },
  {
   "cell_type": "code",
   "execution_count": null,
   "id": "90e352c7",
   "metadata": {},
   "outputs": [
    {
     "name": "stdout",
     "output_type": "stream",
     "text": [
      "4\n"
     ]
    }
   ],
   "source": [
    "# Given the root of a binary tree, find the number of nodes that are good. \n",
    "# A node is good if the path between the root and the node has no nodes with a greater value.\n",
    "\n",
    "class GoodNodesSolution:\n",
    "    def count_good_nodes_in_tree(self, root: TreeNode):\n",
    "        def count_good_nodes_in_subtree(node, max_val_of_ancestors):\n",
    "\n",
    "            # Missing leaves don't contribute any good nodes\n",
    "            if not node:\n",
    "                return 0\n",
    "            \n",
    "            # How many good nodes do we get from the current node's children?\n",
    "            max_val_incl_current_node = max(max_val_of_ancestors, node.val)\n",
    "            good_nodes_from_left_child = count_good_nodes_in_subtree(node.left, max_val_incl_current_node)\n",
    "            good_nodes_from_right_child = count_good_nodes_in_subtree(node.right, max_val_incl_current_node)\n",
    "            good_nodes = good_nodes_from_left_child + good_nodes_from_right_child\n",
    "\n",
    "            # Is our current node also a good node?\n",
    "            if node.val >= max_val_of_ancestors:\n",
    "                good_nodes += 1\n",
    "\n",
    "            return good_nodes\n",
    "\n",
    "        return count_good_nodes_in_subtree(node=root, max_val_of_ancestors=float(\"-inf\"))\n",
    "        # We start at the root, which has no ancestors \n",
    "        # It's the only node that doesn't need a \"max_val_of_ancestors\" to have been calculated externally\n",
    "        # I.e. it's a good node by definition\n",
    "\n",
    "good_nodes_solution = GoodNodesSolution()\n",
    "good_nodes = good_nodes_solution.count_good_nodes_in_tree(root=root)\n",
    "print(good_nodes)\n",
    "    "
   ]
  },
  {
   "cell_type": "code",
   "execution_count": null,
   "id": "085e1ecf",
   "metadata": {},
   "outputs": [
    {
     "name": "stdout",
     "output_type": "stream",
     "text": [
      "True\n",
      "False\n"
     ]
    }
   ],
   "source": [
    "# Given the roots of two binary trees p and q, check if they are the same tree. \n",
    "# Two binary trees are the same tree if they are structurally identical and the nodes have the same values.\n",
    "\n",
    "root1 = copy.deepcopy(root)\n",
    "root2 = copy.deepcopy(root)\n",
    "root2.right.left.val = 2 # change one of the values so the trees don't match\n",
    "\n",
    "class SameTreeSolution:\n",
    "    def are_trees_identical(self, root1, root2):\n",
    "\n",
    "        # Base cases where leaves are empty\n",
    "        if root1 is None and root2 is None:\n",
    "            return True\n",
    "        if root1 is None and root2 is not None:\n",
    "            return False\n",
    "        if root2 is None and root1 is not None:\n",
    "            return False\n",
    "        \n",
    "        # Check current node\n",
    "        values_match = root1.val == root2.val\n",
    "\n",
    "        # Check child nodes (recursive)\n",
    "        left_children_match = self.are_trees_identical(root1=root1.left, root2=root2.left)\n",
    "        right_children_match = self.are_trees_identical(root1=root1.right, root2=root2.right)\n",
    "\n",
    "        # Combine\n",
    "        is_complete_match = values_match and left_children_match and right_children_match\n",
    "\n",
    "        return is_complete_match\n",
    "    \n",
    "same_tree_solution = SameTreeSolution()\n",
    "\n",
    "are_trees_identical_1 = same_tree_solution.are_trees_identical(root1=root1, root2=root1)\n",
    "print(are_trees_identical_1)\n",
    "\n",
    "are_trees_identical_2 = same_tree_solution.are_trees_identical(root1=root1, root2=root2)\n",
    "print(are_trees_identical_2)"
   ]
  },
  {
   "cell_type": "markdown",
   "id": "353e310f",
   "metadata": {},
   "source": [
    "### Breath-first search"
   ]
  },
  {
   "cell_type": "code",
   "execution_count": null,
   "id": "768434b9",
   "metadata": {},
   "outputs": [
    {
     "name": "stdout",
     "output_type": "stream",
     "text": [
      "[5, 8, 4, 1]\n"
     ]
    }
   ],
   "source": [
    "# Tree structure:\n",
    "#         5\n",
    "#        / \\\n",
    "#       4   8\n",
    "#      /   / \\\n",
    "#     11  13  4\n",
    "#    /  \\      \\\n",
    "#   7    2      1\n",
    "\n",
    "# Example 1: 199. Binary Tree Right Side View\n",
    "\n",
    "# Given the root of a binary tree, \n",
    "# Return the values of the nodes on the right side from top to bottom.\n",
    "\n",
    "class RightSideSolution:\n",
    "    def return_right_nodes(self, root):\n",
    "        right_nodes = []\n",
    "        current_node = root\n",
    "        while current_node is not None:\n",
    "            right_nodes.append(current_node.val)\n",
    "            current_node = current_node.right\n",
    "        \n",
    "        return right_nodes\n",
    "# Not general - only works when all the right nodes are present\n",
    "\n",
    "print(RightSideSolution().return_right_nodes(root))"
   ]
  },
  {
   "cell_type": "code",
   "execution_count": null,
   "id": "3b902cf3",
   "metadata": {},
   "outputs": [
    {
     "name": "stdout",
     "output_type": "stream",
     "text": [
      "[5, 8, 4, 1]\n"
     ]
    }
   ],
   "source": [
    "class RightSideSolution:\n",
    "    def return_right_nodes(self, root):\n",
    "        right_node_values = []\n",
    "        nodes_queue = deque([root])\n",
    "\n",
    "        while nodes_queue:\n",
    "            \n",
    "            right_node_values.append(nodes_queue[-1].val)\n",
    "\n",
    "            for _ in range(len(nodes_queue)):\n",
    "                current_node = nodes_queue.popleft()\n",
    "\n",
    "                if current_node.left:\n",
    "                    nodes_queue.append(current_node.left)\n",
    "\n",
    "                if current_node.right:\n",
    "                    nodes_queue.append(current_node.right)\n",
    "\n",
    "        return right_node_values\n",
    "\n",
    "\n",
    "print(RightSideSolution().return_right_nodes(root))"
   ]
  },
  {
   "cell_type": "code",
   "execution_count": null,
   "id": "2c843e3f",
   "metadata": {},
   "outputs": [
    {
     "name": "stdout",
     "output_type": "stream",
     "text": [
      "[5, 8, 13, 7]\n"
     ]
    }
   ],
   "source": [
    "# Example 2: 515. Find Largest Value in Each Tree Row\n",
    "\n",
    "# Given the root of a binary tree, \n",
    "# return an array of the largest value in each row of the tree.\n",
    "\n",
    "class LargestValueSolution:\n",
    "    def find_largest_value_by_row(self, root):\n",
    "        node_queue = deque([root])\n",
    "        max_val_by_level = []\n",
    "\n",
    "        while node_queue:\n",
    "            nodes_in_level = len(node_queue)\n",
    "            current_max = 0\n",
    "            for _ in range(nodes_in_level):\n",
    "                current_node = node_queue.popleft()\n",
    "                current_max = max(current_node.val, current_max)\n",
    "                if current_node.left:\n",
    "                    node_queue.append(current_node.left)\n",
    "                if current_node.right:\n",
    "                    node_queue.append(current_node.right)\n",
    "            max_val_by_level.append(current_max)\n",
    "\n",
    "        return max_val_by_level\n",
    "    \n",
    "print(LargestValueSolution().find_largest_value_by_row(root))\n"
   ]
  },
  {
   "cell_type": "markdown",
   "id": "48cbfaa6",
   "metadata": {},
   "source": [
    "## Binary Search Trees"
   ]
  },
  {
   "cell_type": "code",
   "execution_count": null,
   "id": "fdca0478",
   "metadata": {},
   "outputs": [
    {
     "name": "stdout",
     "output_type": "stream",
     "text": [
      "Visual representation of the BST:\n",
      "Root: 40\n",
      "    L--- 20\n",
      "        L--- 10\n",
      "        R--- 30\n",
      "    R--- 60\n",
      "        L--- 50\n",
      "        R--- 70\n"
     ]
    }
   ],
   "source": [
    "# GENERATE EXAMPLES FOR BINARY SEARCH TREES\n",
    "\n",
    "def sorted_array_to_bst(nums):\n",
    "    if not nums:\n",
    "        return None\n",
    "\n",
    "    mid = len(nums) // 2\n",
    "    root = TreeNode(nums[mid])\n",
    "\n",
    "    root.left = sorted_array_to_bst(nums[:mid])\n",
    "    root.right = sorted_array_to_bst(nums[mid+1:])\n",
    "\n",
    "    return root\n",
    "\n",
    "def preorder_traversal(root):\n",
    "    if root:\n",
    "        print(root.val, end=\" \")\n",
    "        preorder_traversal(root.left)\n",
    "        preorder_traversal(root.right)\n",
    "\n",
    "def print_tree(root, level=0, prefix='Root: '):\n",
    "    if root is not None:\n",
    "        print(' ' * (level * 4) + prefix + str(root.val))\n",
    "        if root.left or root.right:\n",
    "            if root.left:\n",
    "                print_tree(root.left, level + 1, 'L--- ')\n",
    "            else:\n",
    "                print_tree(None, level + 1, 'L--- ')\n",
    "            if root.right:\n",
    "                print_tree(root.right, level + 1, 'R--- ')\n",
    "            else:\n",
    "                print_tree(None, level + 1, 'R--- ')\n",
    "    else:\n",
    "        print(' ' * (level * 4) + prefix + 'None')\n",
    "\n",
    "# Example usage\n",
    "sorted_array = [10, 20, 30, 40, 50, 60, 70]\n",
    "bst_root = sorted_array_to_bst(sorted_array)\n",
    "print(\"Visual representation of the BST:\")\n",
    "print_tree(bst_root)"
   ]
  },
  {
   "cell_type": "code",
   "execution_count": null,
   "id": "4ac7db90",
   "metadata": {},
   "outputs": [
    {
     "name": "stdout",
     "output_type": "stream",
     "text": [
      "100\n",
      "100\n"
     ]
    }
   ],
   "source": [
    "# Example 1: 938. Range Sum of BST\n",
    "\n",
    "# Given the root node of a binary search tree \n",
    "# and two integers low and high, \n",
    "# return the sum of values of all nodes \n",
    "# with a value in the inclusive range [low, high].\n",
    "\n",
    "class RangeSumSolution:\n",
    "    \n",
    "    def find_sum_in_range_dfs(self, root, low, high):\n",
    "        if not root:\n",
    "            return 0\n",
    "        \n",
    "        include_current_node = low <= root.val <= high\n",
    "        include_left_child = root.left and root.left.val >= low\n",
    "        include_right_child = root.right and root.right.val <= high\n",
    "\n",
    "        current_value_sum = 0\n",
    "        if include_current_node:\n",
    "            current_value_sum += root.val\n",
    "\n",
    "        if include_left_child:\n",
    "            current_value_sum += self.find_sum_in_range_dfs(root.left, low, high)\n",
    "\n",
    "        if include_right_child:\n",
    "            current_value_sum += self.find_sum_in_range_dfs(root.right, low, high)\n",
    "\n",
    "        return current_value_sum\n",
    "\n",
    "    def find_sum_in_range_bfs(self, root, low, high):\n",
    "        if not root:\n",
    "            return None\n",
    "        \n",
    "        stack = [root]\n",
    "        current_sum = 0\n",
    "\n",
    "        while stack:\n",
    "\n",
    "            current_node = stack.pop()\n",
    "\n",
    "            if low <= current_node.val <= high:\n",
    "                current_sum += current_node.val\n",
    "\n",
    "            if current_node.left and current_node.left.val >= low:\n",
    "                stack.append(current_node.left)\n",
    "\n",
    "            if current_node.right and current_node.right.val <= high:\n",
    "                stack.append(current_node.right)\n",
    "\n",
    "        return current_sum\n",
    "\n",
    "            \n",
    "low = 10\n",
    "high = 40\n",
    "print(RangeSumSolution().find_sum_in_range_dfs(root=bst_root, low=low, high=high))\n",
    "print(RangeSumSolution().find_sum_in_range_bfs(root=bst_root, low=low, high=high))"
   ]
  },
  {
   "cell_type": "code",
   "execution_count": null,
   "id": "c0d680fa",
   "metadata": {},
   "outputs": [
    {
     "name": "stdout",
     "output_type": "stream",
     "text": [
      "10\n"
     ]
    }
   ],
   "source": [
    "# Example 2: 530. Minimum Absolute Difference in BST\n",
    "\n",
    "# Given the root of a BST, \n",
    "# return the minimum absolute difference between\n",
    "# the values of any two different nodes in the tree.\n",
    "\n",
    "class MinDiffSolution:\n",
    "    def return_values_inorder(self, node, values=[]):\n",
    "        if not node:\n",
    "            return values\n",
    "        \n",
    "        # Recursively visit the left child and update 'values'\n",
    "        self.return_values_inorder(node.left, values)\n",
    "        \n",
    "        # Append the current node's value\n",
    "        values.append(node.val)\n",
    "        \n",
    "        # Recursively visit the right child and update 'values'\n",
    "        self.return_values_inorder(node.right, values)\n",
    "    \n",
    "        return values\n",
    "    \n",
    "    def find_min_difference(self, root: Optional[TreeNode]) -> int:\n",
    "        values = self.return_values_inorder(root, values=[])\n",
    "        current_min_difference = float(\"inf\")\n",
    "        for i in range(1, len(values)):\n",
    "            current_min_difference = min(current_min_difference, values[i] - values[i - 1])\n",
    "            # in a sorted list, the minimum difference is always between neighbours\n",
    "        \n",
    "        return current_min_difference\n",
    "\n",
    "            \n",
    "print(MinDiffSolution().find_min_difference(root=bst_root))"
   ]
  },
  {
   "cell_type": "code",
   "execution_count": null,
   "id": "7f3611df",
   "metadata": {},
   "outputs": [
    {
     "name": "stdout",
     "output_type": "stream",
     "text": [
      "True\n",
      "True\n"
     ]
    }
   ],
   "source": [
    "# Example 3: 98. Validate Binary Search Tree\n",
    "\n",
    "# Given the root of a binary tree,\n",
    "# determine if it is a valid BST.\n",
    "\n",
    "class ValidBSTSolution:\n",
    "    def return_values_inorder(self, node, values=[]):\n",
    "        if not node:\n",
    "            return values\n",
    "    \n",
    "        self.return_values_inorder(node.left, values)\n",
    "        values.append(node.val)\n",
    "        self.return_values_inorder(node.right, values)\n",
    "    \n",
    "        return values\n",
    "    \n",
    "    def is_valid_BST(self, root: Optional[TreeNode]) -> int:\n",
    "        if not (root.left or root.right): \n",
    "            return True\n",
    "        \n",
    "        values = self.return_values_inorder(root, values=[])\n",
    "        for i in range(1, len(values)):\n",
    "            if values[i - 1] >= values[i]:\n",
    "                return False\n",
    "        \n",
    "        return True\n",
    "\n",
    "            \n",
    "print(ValidBSTSolution().is_valid_BST(root=bst_root))\n",
    "stump = TreeNode(val=1, left=None, right=None)\n",
    "print(ValidBSTSolution().is_valid_BST(root=stump))"
   ]
  },
  {
   "cell_type": "markdown",
   "id": "d769a971",
   "metadata": {},
   "source": [
    "## Binary Search"
   ]
  },
  {
   "cell_type": "code",
   "execution_count": null,
   "id": "9ee05c34",
   "metadata": {},
   "outputs": [
    {
     "name": "stdout",
     "output_type": "stream",
     "text": [
      "6\n"
     ]
    }
   ],
   "source": [
    "# Example 1: 704. Binary Search\n",
    "\n",
    "# You are given an array of integers nums which is sorted in ascending order,\n",
    "# and an integer target. \n",
    "# If target exists in nums, return its index.\n",
    "# Otherwise, return -1.\n",
    "\n",
    "def return_target_index(nums, target):\n",
    "    left = 0\n",
    "    right = len(nums)\n",
    "\n",
    "    while left < right:\n",
    "        mid = (left + right) // 2\n",
    "        value_mid = nums[mid]\n",
    "        if value_mid == target:\n",
    "            return mid\n",
    "        if value_mid < target:\n",
    "            left = mid + 1\n",
    "        if value_mid > target:\n",
    "            right = mid \n",
    "\n",
    "    return -1\n",
    "\n",
    "nums = [-15, -10, -3, 0, 1, 5, 9, 12, 17, 23, 29, 34, 38]\n",
    "target = 9\n",
    "\n",
    "print(return_target_index(nums, target))        \n",
    "# Answer should be 6"
   ]
  },
  {
   "cell_type": "code",
   "execution_count": null,
   "id": "24b10e70",
   "metadata": {},
   "outputs": [
    {
     "name": "stdout",
     "output_type": "stream",
     "text": [
      "[1, 0, 2]\n"
     ]
    }
   ],
   "source": [
    "# Example 3: 2300. Successful Pairs of Spells and Potions\n",
    "\n",
    "# You are given two positive integer arrays spells and potions,\n",
    "# where spells[i] represents the strength of the ith spell\n",
    "# and potions[j] represents the strength of the jth potion.\n",
    "# You are also given an integer success.\n",
    "# A spell and potion pair is considered successful if the product of their strengths is at least success.\n",
    "# For each spell, find how many potions it can pair with to be successful.\n",
    "# Return an integer array where the ith element is the answer for the ith spell.\n",
    "\n",
    "spells = [3, 1, 5]\n",
    "potions = [1, 2, 3, 4]\n",
    "success = 12\n",
    "\n",
    "def count_successful_potions(spell, potions_sorted):\n",
    "    target = success / spell\n",
    "    left = 0\n",
    "    right = len(potions) - 1\n",
    "\n",
    "    if potions[right] < target:\n",
    "        return 0\n",
    "\n",
    "    while left < right:\n",
    "        mid = (right + left) // 2\n",
    "        mid_potion = potions_sorted[mid]\n",
    "        if mid_potion < target:\n",
    "            left = mid + 1\n",
    "        else:\n",
    "            right = mid \n",
    "            \n",
    "    n_successful_potions = len(potions_sorted) - left\n",
    "\n",
    "    return n_successful_potions\n",
    "\n",
    "def count_successful_potions_array(spells, potions):\n",
    "    potions_sorted = sorted(potions)\n",
    "    n_successful_spells = []\n",
    "    for spell in spells:\n",
    "        n_successful_spells.append(count_successful_potions(spell, potions_sorted))\n",
    "\n",
    "    return n_successful_spells\n",
    "\n",
    "print(count_successful_potions_array(spells, potions))\n",
    "# answer should be [1, 0, 2]\n"
   ]
  }
 ],
 "metadata": {
  "kernelspec": {
   "display_name": "fd-rl",
   "language": "python",
   "name": "python3"
  },
  "language_info": {
   "codemirror_mode": {
    "name": "ipython",
    "version": 3
   },
   "file_extension": ".py",
   "mimetype": "text/x-python",
   "name": "python",
   "nbconvert_exporter": "python",
   "pygments_lexer": "ipython3",
   "version": "3.12.1"
  }
 },
 "nbformat": 4,
 "nbformat_minor": 5
}
